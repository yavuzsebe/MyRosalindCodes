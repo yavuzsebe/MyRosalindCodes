{
 "cells": [
  {
   "cell_type": "markdown",
   "metadata": {},
   "source": [
    "#Problem\n",
    "\n",
    "##Given: A string s of length at most 10000 letters.\n",
    "\n",
    "##Return: The number of occurrences of each word in s, where words are separated by spaces. Words are case-sensitive, and the lines in the output can be in any order.\n",
    "\n",
    "###Sample Dataset\n",
    "\n",
    "We tried list and we tried dicts also we tried Zen\n",
    "\n",
    "###Sample Output\n",
    "\n",
    "and 1\n",
    "We 1\n",
    "tried 3\n",
    "dicts 1\n",
    "list 1\n",
    "we 2\n",
    "also 1\n",
    "Zen 1"
   ]
  },
  {
   "cell_type": "code",
   "execution_count": 77,
   "metadata": {},
   "outputs": [
    {
     "name": "stdout",
     "output_type": "stream",
     "text": [
      "['We', 'tried', 'list', 'and', 'we', 'tried', 'dicts', 'also', 'we', 'tried', 'Zen']\n",
      "<class 'list'>\n"
     ]
    }
   ],
   "source": [
    "string1 = \"We tried list and we tried dicts also we tried Zen\"\n",
    "dict1={}\n",
    "strlist=string1.split(\" \")\n",
    "print(strlist)\n",
    "print(type(strlist))"
   ]
  },
  {
   "cell_type": "code",
   "execution_count": 83,
   "metadata": {},
   "outputs": [],
   "source": [
    "dict1={}\n",
    "dict1=dict(dict1)\n",
    "for key in strlist:\n",
    "    if key in dict1:\n",
    "        dict1[key]=dict1[key]+1\n",
    "    else:\n",
    "        dict1[key]=1"
   ]
  },
  {
   "cell_type": "code",
   "execution_count": 84,
   "metadata": {},
   "outputs": [
    {
     "data": {
      "text/plain": [
       "{'We': 1,\n",
       " 'tried': 3,\n",
       " 'list': 1,\n",
       " 'and': 1,\n",
       " 'we': 2,\n",
       " 'dicts': 1,\n",
       " 'also': 1,\n",
       " 'Zen': 1}"
      ]
     },
     "execution_count": 84,
     "metadata": {},
     "output_type": "execute_result"
    }
   ],
   "source": [
    "dict1"
   ]
  },
  {
   "cell_type": "code",
   "execution_count": 1,
   "metadata": {},
   "outputs": [
    {
     "name": "stdout",
     "output_type": "stream",
     "text": [
      "We\n",
      "1\n",
      "tried\n",
      "3\n",
      "list\n",
      "1\n",
      "and\n",
      "1\n",
      "we\n",
      "2\n",
      "dicts\n",
      "1\n",
      "also\n",
      "1\n",
      "Zen\n",
      "1\n"
     ]
    }
   ],
   "source": [
    "string1 = input()\n",
    "dict1={}\n",
    "strlist=string1.split(\" \")\n",
    "dict1={}\n",
    "dict1=dict(dict1)\n",
    "for key in strlist:\n",
    "    if key in dict1:\n",
    "        dict1[key]+=1\n",
    "    else:\n",
    "        dict1[key]=1\n",
    "for keys, value in dict1.items():\n",
    "    print(keys)\n",
    "    print(value)"
   ]
  },
  {
   "cell_type": "code",
   "execution_count": null,
   "metadata": {},
   "outputs": [],
   "source": []
  }
 ],
 "metadata": {
  "kernelspec": {
   "display_name": "Python 3",
   "language": "python",
   "name": "python3"
  },
  "language_info": {
   "codemirror_mode": {
    "name": "ipython",
    "version": 3
   },
   "file_extension": ".py",
   "mimetype": "text/x-python",
   "name": "python",
   "nbconvert_exporter": "python",
   "pygments_lexer": "ipython3",
   "version": "3.12.6"
  }
 },
 "nbformat": 4,
 "nbformat_minor": 2
}
