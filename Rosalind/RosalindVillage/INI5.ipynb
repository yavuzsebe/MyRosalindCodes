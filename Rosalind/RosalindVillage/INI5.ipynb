{
 "cells": [
  {
   "cell_type": "code",
   "execution_count": 1,
   "metadata": {},
   "outputs": [
    {
     "data": {
      "text/plain": [
       "['Some things in life are bad, they can really make you mad\\n',\n",
       " 'Other things just make you swear and curse\\n',\n",
       " \"When you're chewing on life's gristle, don't grumble give a whistle\\n\",\n",
       " 'This will help things turn out for the best\\n',\n",
       " 'Always look on the bright side of life\\n',\n",
       " 'Always look on the right side of life\\n',\n",
       " \"If life seems jolly rotten, there's something you've forgotten\\n\",\n",
       " \"And that's to laugh and smile and dance and sing\\n\",\n",
       " \"When you're feeling in the dumps, don't be silly, chumps\\n\",\n",
       " \"Just purse your lips and whistle, that's the thing\\n\",\n",
       " 'So, always look on the bright side of death\\n',\n",
       " 'Just before you draw your terminal breath\\n',\n",
       " \"Life's a counterfeit and when you look at it\\n\",\n",
       " \"Life's a laugh and death's the joke, it's true\\n\",\n",
       " \"You see, it's all a show, keep them laughing as you go\\n\",\n",
       " 'Just remember the last laugh is on you\\n',\n",
       " 'Always look on the bright side of life\\n',\n",
       " 'And always look on the right side of life\\n',\n",
       " 'Always look on the bright side of life\\n',\n",
       " 'And always look on the right side of life\\n']"
      ]
     },
     "execution_count": 1,
     "metadata": {},
     "output_type": "execute_result"
    }
   ],
   "source": [
    "f = open(\"rosalind_ini5.txt\" , \"r\")\n",
    "g = open(\"output.txt\" , \"w\")\n",
    "\n",
    "list1=list(f.readlines())\n",
    "\n",
    "a = 1\n",
    "\n",
    "try: \n",
    "\n",
    "    for i in list1:\n",
    "\n",
    "        g.write(list1[a])\n",
    "        a+=2\n",
    "\n",
    "except IndexError:\n",
    "\n",
    "    g = open(\"output.txt\",\"r\")\n",
    "    g.readlines()\n",
    "\n",
    "g = open(\"output.txt\",\"r\")\n",
    "g.readlines()"
   ]
  },
  {
   "cell_type": "code",
   "execution_count": null,
   "metadata": {},
   "outputs": [],
   "source": []
  }
 ],
 "metadata": {
  "kernelspec": {
   "display_name": "Python 3",
   "language": "python",
   "name": "python3"
  },
  "language_info": {
   "codemirror_mode": {
    "name": "ipython",
    "version": 3
   },
   "file_extension": ".py",
   "mimetype": "text/x-python",
   "name": "python",
   "nbconvert_exporter": "python",
   "pygments_lexer": "ipython3",
   "version": "3.12.6"
  }
 },
 "nbformat": 4,
 "nbformat_minor": 2
}
