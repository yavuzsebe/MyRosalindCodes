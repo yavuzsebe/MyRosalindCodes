{
 "cells": [
  {
   "cell_type": "code",
   "execution_count": 24,
   "metadata": {},
   "outputs": [
    {
     "name": "stdout",
     "output_type": "stream",
     "text": [
      "<class 'str'>\n",
      "HumptyDumptysatonawallHumptyDumptyhadagreatfallAlltheKingshorsesandalltheKingsmenCouldntputHumptyDumptyinhisplaceagain.\n",
      "<class 'list'>\n",
      "['H', 'u', 'm', 'p', 't', 'y', 'D', 'u', 'm', 'p', 't', 'y', 's', 'a', 't', 'o', 'n', 'a', 'w', 'a', 'l', 'l', 'H', 'u', 'm', 'p', 't', 'y', 'D', 'u', 'm', 'p', 't', 'y', 'h', 'a', 'd', 'a', 'g', 'r', 'e', 'a', 't', 'f', 'a', 'l', 'l', 'A', 'l', 'l', 't', 'h', 'e', 'K', 'i', 'n', 'g', 's', 'h', 'o', 'r', 's', 'e', 's', 'a', 'n', 'd', 'a', 'l', 'l', 't', 'h', 'e', 'K', 'i', 'n', 'g', 's', 'm', 'e', 'n', 'C', 'o', 'u', 'l', 'd', 'n', 't', 'p', 'u', 't', 'H', 'u', 'm', 'p', 't', 'y', 'D', 'u', 'm', 'p', 't', 'y', 'i', 'n', 'h', 'i', 's', 'p', 'l', 'a', 'c', 'e', 'a', 'g', 'a', 'i', 'n', '.']\n"
     ]
    }
   ],
   "source": [
    "string1=(\"HumptyDumptysatonawallHumptyDumptyhadagreatfallAlltheKingshorsesandalltheKingsmenCouldntputHumptyDumptyinhisplaceagain.\")\n",
    "print(type(string1))\n",
    "print(string1)\n",
    "string1 = list(string1)\n",
    "print(type(string1))\n",
    "print(string1)"
   ]
  },
  {
   "cell_type": "code",
   "execution_count": 66,
   "metadata": {},
   "outputs": [
    {
     "name": "stdout",
     "output_type": "stream",
     "text": [
      " Humpty Dumpty\n"
     ]
    }
   ],
   "source": [
    "a=int(input(\"a: \"))\n",
    "b=int(input(\"b: \"))\n",
    "c=int(input(\"c: \"))\n",
    "d=int(input(\"d: \"))\n",
    "string2= \" \"\n",
    "string3= \" \"\n",
    "while a<(b+1): \n",
    "    string2=string2+string1[a]\n",
    "    a+=1\n",
    "while c<(d+1): \n",
    "    string3=string3+string1[c]\n",
    "    c+=1\n",
    "else:\n",
    "    print(string2+string3)"
   ]
  },
  {
   "cell_type": "code",
   "execution_count": null,
   "metadata": {},
   "outputs": [],
   "source": []
  }
 ],
 "metadata": {
  "kernelspec": {
   "display_name": "Python 3",
   "language": "python",
   "name": "python3"
  },
  "language_info": {
   "codemirror_mode": {
    "name": "ipython",
    "version": 3
   },
   "file_extension": ".py",
   "mimetype": "text/x-python",
   "name": "python",
   "nbconvert_exporter": "python",
   "pygments_lexer": "ipython3",
   "version": "3.12.6"
  }
 },
 "nbformat": 4,
 "nbformat_minor": 2
}
