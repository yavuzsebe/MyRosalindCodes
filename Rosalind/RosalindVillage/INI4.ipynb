{
 "cells": [
  {
   "cell_type": "markdown",
   "metadata": {},
   "source": [
    "Given: Two positive integers a and b (a<b<10000).\n",
    "Return: The sum of all odd integers from a through b, inclusively.\n",
    "    Sample Dataset\n",
    "    100 200\n",
    "    Sample Output\n",
    "    7500\n",
    "You can use a % 2 == 1 to test if a is odd."
   ]
  },
  {
   "cell_type": "code",
   "execution_count": 19,
   "metadata": {},
   "outputs": [
    {
     "name": "stdout",
     "output_type": "stream",
     "text": [
      "16097500\n"
     ]
    }
   ],
   "source": [
    "x=int(input(\"x: \"))\n",
    "y=int(input(\"y: \"))\n",
    "a= list(range(x, y+1))\n",
    "b=0\n",
    "for i in a:\n",
    "    if i%2==1:\n",
    "        b+=i\n",
    "    else:\n",
    "        pass\n",
    "print(b)"
   ]
  },
  {
   "cell_type": "code",
   "execution_count": null,
   "metadata": {},
   "outputs": [],
   "source": []
  }
 ],
 "metadata": {
  "kernelspec": {
   "display_name": "Python 3",
   "language": "python",
   "name": "python3"
  },
  "language_info": {
   "codemirror_mode": {
    "name": "ipython",
    "version": 3
   },
   "file_extension": ".py",
   "mimetype": "text/x-python",
   "name": "python",
   "nbconvert_exporter": "python",
   "pygments_lexer": "ipython3",
   "version": "3.12.6"
  }
 },
 "nbformat": 4,
 "nbformat_minor": 2
}
