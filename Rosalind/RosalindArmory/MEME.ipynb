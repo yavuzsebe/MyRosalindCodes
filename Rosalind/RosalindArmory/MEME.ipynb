{
 "cells": [
  {
   "cell_type": "code",
   "execution_count": null,
   "metadata": {},
   "outputs": [],
   "source": [
    "#https://meme-suite.org/meme/info/status?service=MEME&id=appMEME_5.5.717295097582121662508334 \n",
    "\n",
    "#meme-suite.org wasn't fast enough (or wasn't working) so usegalaxy.org was used for MEME.\n",
    "\n",
    "#https://usegalaxy.org/?tool_id=toolshed.g2.bx.psu.edu%2Frepos%2Fiuc%2Fmeme_meme%2Fmeme_meme%2F5.5.6%2Bgalaxy0&version=latest"
   ]
  }
 ],
 "metadata": {
  "kernelspec": {
   "display_name": "Python 3",
   "language": "python",
   "name": "python3"
  },
  "language_info": {
   "codemirror_mode": {
    "name": "ipython",
    "version": 3
   },
   "file_extension": ".py",
   "mimetype": "text/x-python",
   "name": "python",
   "nbconvert_exporter": "python",
   "pygments_lexer": "ipython3",
   "version": "3.12.6"
  }
 },
 "nbformat": 4,
 "nbformat_minor": 2
}
