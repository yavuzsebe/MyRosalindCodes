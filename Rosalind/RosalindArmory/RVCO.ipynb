{
 "cells": [
  {
   "cell_type": "code",
   "execution_count": 6,
   "metadata": {},
   "outputs": [
    {
     "name": "stdout",
     "output_type": "stream",
     "text": [
      "GATCGATGGGCCTATATAGGATCGAAAATCGC\n",
      "CTAGCTACCCGGATATATCCTAGCTTTTAGCG\n",
      "GCGATTTTCGATCCTATATAGGCCCATCGATC\n"
     ]
    }
   ],
   "source": [
    "from Bio.Seq import Seq\n",
    "my_seq=Seq(\"GATCGATGGGCCTATATAGGATCGAAAATCGC\")\n",
    "print(my_seq)\n",
    "print(my_seq.complement())\n",
    "print(my_seq.reverse_complement())"
   ]
  },
  {
   "cell_type": "code",
   "execution_count": 15,
   "metadata": {},
   "outputs": [
    {
     "name": "stdout",
     "output_type": "stream",
     "text": [
      "1\n"
     ]
    }
   ],
   "source": [
    "from Bio.Seq import Seq\n",
    "with open(\"/Users/yavuzsebe/Downloads/rosalind_rvco.txt\",\"r\") as inputFileRaw:\n",
    "    inputFile=inputFileRaw.readlines()\n",
    "i,j=1,0\n",
    "while i<len(inputFile):\n",
    "    currentSeq=Seq(inputFile[i].strip())\n",
    "    if currentSeq==currentSeq.reverse_complement():\n",
    "        j+=1\n",
    "    i+=2\n",
    "print(j)"
   ]
  },
  {
   "cell_type": "code",
   "execution_count": 38,
   "metadata": {},
   "outputs": [
    {
     "name": "stdout",
     "output_type": "stream",
     "text": [
      "5\n"
     ]
    }
   ],
   "source": [
    "from Bio.Seq import Seq\n",
    "\n",
    "with open(\"/Users/yavuzsebe/Downloads/rosalind_rvco.txt\",\"r\") as inputfasta:\n",
    "    fasta_dictionary={}\n",
    "    fasta_header=\"\"\n",
    "    for line in inputfasta:\n",
    "        line=line.strip()\n",
    "        if not line:\n",
    "            continue\n",
    "        if line.startswith(\">\"):\n",
    "            fasta_header=line[1:]\n",
    "            if fasta_header not in fasta_dictionary:\n",
    "                fasta_dictionary[fasta_header]=[]\n",
    "            continue\n",
    "        sequence=line\n",
    "        fasta_dictionary[fasta_header].append(sequence)\n",
    "fastaFile={}\n",
    "i=0\n",
    "while i<len(list(fasta_dictionary.keys())):\n",
    "    j=0\n",
    "    emptyStr=\"\"\n",
    "    while j<len(fasta_dictionary[list(fasta_dictionary.keys())[i]]):\n",
    "        a=[]\n",
    "        a=list(list(fasta_dictionary[list(fasta_dictionary.keys())[i]]))[j]\n",
    "        emptyStr=emptyStr+a\n",
    "        j+=1\n",
    "    fastaFile[list(fasta_dictionary.keys())[i]]=[]\n",
    "    fastaFile[list(fasta_dictionary.keys())[i]].append(emptyStr)\n",
    "    i+=1\n",
    "\n",
    "inputFile,j=[],0\n",
    "\n",
    "for keys in fastaFile:\n",
    "    for values in fastaFile[keys]:\n",
    "        inputFile.append(values)\n",
    "\n",
    "for i in inputFile:\n",
    "    currentSeq=Seq(i)\n",
    "    if currentSeq==currentSeq.reverse_complement():\n",
    "        j+=1\n",
    "\n",
    "print(j)"
   ]
  },
  {
   "cell_type": "code",
   "execution_count": 39,
   "metadata": {},
   "outputs": [
    {
     "name": "stdout",
     "output_type": "stream",
     "text": [
      "7\n"
     ]
    }
   ],
   "source": [
    "from Bio.Seq import Seq\n",
    "\n",
    "with open(\"/Users/yavuzsebe/Downloads/rosalind_rvco.txt\",\"r\") as inputfasta:\n",
    "    fasta_dictionary={}\n",
    "    fasta_header=\"\"\n",
    "    for line in inputfasta:\n",
    "        line=line.strip()\n",
    "        if not line:\n",
    "            continue\n",
    "        if line.startswith(\">\"):\n",
    "            fasta_header=line[1:]\n",
    "            if fasta_header not in fasta_dictionary:\n",
    "                fasta_dictionary[fasta_header]=[]\n",
    "            continue\n",
    "        sequence=line\n",
    "        fasta_dictionary[fasta_header].append(sequence)\n",
    "fastaFile={}\n",
    "i=0\n",
    "while i<len(list(fasta_dictionary.keys())):\n",
    "    j=0\n",
    "    emptyStr=\"\"\n",
    "    while j<len(fasta_dictionary[list(fasta_dictionary.keys())[i]]):\n",
    "        a=[]\n",
    "        a=list(list(fasta_dictionary[list(fasta_dictionary.keys())[i]]))[j]\n",
    "        emptyStr=emptyStr+a\n",
    "        j+=1\n",
    "    fastaFile[list(fasta_dictionary.keys())[i]]=[]\n",
    "    fastaFile[list(fasta_dictionary.keys())[i]].append(emptyStr)\n",
    "    i+=1\n",
    "\n",
    "inputFile,j=[],0\n",
    "\n",
    "for keys in fastaFile:\n",
    "    for values in fastaFile[keys]:\n",
    "        inputFile.append(values)\n",
    "\n",
    "for i in inputFile:\n",
    "    currentSeq=Seq(i)\n",
    "    if currentSeq==currentSeq.reverse_complement():\n",
    "        j+=1\n",
    "\n",
    "print(j)"
   ]
  },
  {
   "cell_type": "code",
   "execution_count": null,
   "metadata": {},
   "outputs": [],
   "source": []
  }
 ],
 "metadata": {
  "kernelspec": {
   "display_name": "Python 3",
   "language": "python",
   "name": "python3"
  },
  "language_info": {
   "codemirror_mode": {
    "name": "ipython",
    "version": 3
   },
   "file_extension": ".py",
   "mimetype": "text/x-python",
   "name": "python",
   "nbconvert_exporter": "python",
   "pygments_lexer": "ipython3",
   "version": "3.12.6"
  }
 },
 "nbformat": 4,
 "nbformat_minor": 2
}
