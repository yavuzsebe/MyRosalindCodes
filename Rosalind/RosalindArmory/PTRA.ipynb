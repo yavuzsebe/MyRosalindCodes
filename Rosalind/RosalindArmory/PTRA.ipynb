{
 "cells": [
  {
   "cell_type": "code",
   "execution_count": 1,
   "metadata": {},
   "outputs": [
    {
     "name": "stdout",
     "output_type": "stream",
     "text": [
      "VAIVMGR*KGAR*\n",
      "VAIVMGR@KGAR@\n",
      "VAIVMGR\n",
      "VAIVMGRWKGAR*\n",
      "VAIVMGRWKGAR\n"
     ]
    }
   ],
   "source": [
    "from Bio.Seq import translate\n",
    "\n",
    "coding_dna = \"GTGGCCATTGTAATGGGCCGCTGAAAGGGTGCCCGATAG\"\n",
    "\n",
    "print(translate(coding_dna))\n",
    "print(translate(coding_dna,stop_symbol=\"@\"))\n",
    "print(translate(coding_dna,to_stop=True))\n",
    "print(translate(coding_dna,table=2))\n",
    "print(translate(coding_dna,table=2,to_stop=True))"
   ]
  },
  {
   "cell_type": "code",
   "execution_count": 2,
   "metadata": {},
   "outputs": [
    {
     "name": "stdout",
     "output_type": "stream",
     "text": [
      "MAMAPRTEINSTRING\n"
     ]
    }
   ],
   "source": [
    "from Bio.Seq import translate\n",
    "\n",
    "coding_dna = \"ATGGCCATGGCGCCCAGAACTGAGATCAATAGTACCCGTATTAACGGGTGA\"\n",
    "\n",
    "print(translate(coding_dna,to_stop=True))"
   ]
  },
  {
   "cell_type": "code",
   "execution_count": 83,
   "metadata": {},
   "outputs": [
    {
     "name": "stdout",
     "output_type": "stream",
     "text": [
      "2\n"
     ]
    }
   ],
   "source": [
    "from Bio.Seq import translate\n",
    "\n",
    "with open(\"/Users/yavuzsebe/Downloads/rosalind_ptra.txt\",\"r\") as inputFileRaw:\n",
    "    inputFile=inputFileRaw.readlines()\n",
    "    dnaSeq=inputFile[0].strip()\n",
    "    protSeq=inputFile[1].strip()\n",
    "\n",
    "tableIndexList=[1, 2, 3, 4, 5, 6, 9, 10, 11, 12, 13, 14, 15, 16, 21, 22, 23, 23, 24, 25, 26, 27, 28, 29, 30, 31, 32, 33]\n",
    "\n",
    "for tableIndex in tableIndexList:\n",
    "    try:\n",
    "        dnaSeqTrans=translate(dnaSeq,table=tableIndex,to_stop=True)\n",
    "        if protSeq==dnaSeqTrans:\n",
    "            print(tableIndex)\n",
    "    except ValueError:\n",
    "        pass"
   ]
  },
  {
   "cell_type": "code",
   "execution_count": null,
   "metadata": {},
   "outputs": [],
   "source": []
  }
 ],
 "metadata": {
  "kernelspec": {
   "display_name": "Python 3",
   "language": "python",
   "name": "python3"
  },
  "language_info": {
   "codemirror_mode": {
    "name": "ipython",
    "version": 3
   },
   "file_extension": ".py",
   "mimetype": "text/x-python",
   "name": "python",
   "nbconvert_exporter": "python",
   "pygments_lexer": "ipython3",
   "version": "3.12.6"
  }
 },
 "nbformat": 4,
 "nbformat_minor": 2
}
