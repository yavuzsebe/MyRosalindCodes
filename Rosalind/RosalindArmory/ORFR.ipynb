{
 "cells": [
  {
   "cell_type": "code",
   "execution_count": 75,
   "metadata": {},
   "outputs": [
    {
     "name": "stdout",
     "output_type": "stream",
     "text": [
      "MPTFLRDRASATVMKILSEPRPIWKTQRDSAYINLDHTARNPMGGYSLTNQVSPRAWEHRETVSDIYCSRGIQSRKHAVCPIWAHDTPHTQSRPAQNDNR\n"
     ]
    }
   ],
   "source": [
    "from Bio.Seq import Seq\n",
    "import subprocess\n",
    "\n",
    "subprocess.run([\"getorf\",\n",
    "                \"-sequence\", \"/Users/yavuzsebe/Downloads/rosalind_orfr.txt\",\n",
    "                \"-outseq\", \"/Users/yavuzsebe/Downloads/rosalind_orfr_output.txt\",\n",
    "                \"-find\", \"1\",\n",
    "                \"-methionine\"\n",
    "                ],          \n",
    "                stdout=subprocess.DEVNULL,\n",
    "                stderr=subprocess.DEVNULL)\n",
    "\n",
    "with open(\"/Users/yavuzsebe/Downloads/rosalind_orfr_output.txt\",\"r\") as inputfasta:\n",
    "    fasta_dictionary={}\n",
    "    fasta_header=\"\"\n",
    "    for line in inputfasta:\n",
    "        line=line.strip()\n",
    "        if not line:\n",
    "            continue\n",
    "        if line.startswith(\">\"):\n",
    "            fasta_header=line[1:]\n",
    "            if fasta_header not in fasta_dictionary:\n",
    "                fasta_dictionary[fasta_header]=[]\n",
    "            continue\n",
    "        sequence=line\n",
    "        fasta_dictionary[fasta_header].append(sequence)\n",
    "fastaFile={}\n",
    "i=0\n",
    "while i<len(list(fasta_dictionary.keys())):\n",
    "    j=0\n",
    "    emptyStr=\"\"\n",
    "    while j<len(fasta_dictionary[list(fasta_dictionary.keys())[i]]):\n",
    "        a=[]\n",
    "        a=list(list(fasta_dictionary[list(fasta_dictionary.keys())[i]]))[j]\n",
    "        emptyStr=emptyStr+a\n",
    "        j+=1\n",
    "    fastaFile[list(fasta_dictionary.keys())[i]]=[]\n",
    "    fastaFile[list(fasta_dictionary.keys())[i]].append(emptyStr)\n",
    "    i+=1\n",
    "\n",
    "print(max((seq[0] for seq in fastaFile.values()), key=len))"
   ]
  },
  {
   "cell_type": "code",
   "execution_count": null,
   "metadata": {},
   "outputs": [],
   "source": []
  }
 ],
 "metadata": {
  "kernelspec": {
   "display_name": "Python 3",
   "language": "python",
   "name": "python3"
  },
  "language_info": {
   "codemirror_mode": {
    "name": "ipython",
    "version": 3
   },
   "file_extension": ".py",
   "mimetype": "text/x-python",
   "name": "python",
   "nbconvert_exporter": "python",
   "pygments_lexer": "ipython3",
   "version": "3.12.6"
  }
 },
 "nbformat": 4,
 "nbformat_minor": 2
}
