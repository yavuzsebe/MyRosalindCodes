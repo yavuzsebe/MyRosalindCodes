{
 "cells": [
  {
   "cell_type": "code",
   "execution_count": 1,
   "metadata": {},
   "outputs": [],
   "source": [
    "from Bio import Entrez\n",
    "import ssl\n",
    "ssl._create_default_https_context=ssl._create_unverified_context\n",
    "Entrez.email=\"xxx\""
   ]
  },
  {
   "cell_type": "code",
   "execution_count": 13,
   "metadata": {},
   "outputs": [],
   "source": [
    "with open(\"/Users/yavuzsebe/Downloads/rosalind_frmt.txt\",\"r\") as inputFileRaw:\n",
    "    inputFile,inputList=inputFileRaw.readlines(),[]\n",
    "    for i in inputFile[0].split():\n",
    "        inputList.append(i)"
   ]
  },
  {
   "cell_type": "code",
   "execution_count": 14,
   "metadata": {},
   "outputs": [
    {
     "data": {
      "text/plain": [
       "['FJ817486', 'JX069768', 'JX469983']"
      ]
     },
     "execution_count": 14,
     "metadata": {},
     "output_type": "execute_result"
    }
   ],
   "source": [
    "inputList"
   ]
  },
  {
   "cell_type": "code",
   "execution_count": 19,
   "metadata": {},
   "outputs": [
    {
     "name": "stdout",
     "output_type": "stream",
     "text": [
      ">FJ817486.1 Malus hybrid cultivar flavanone 3-hydroxylase protein (F3H) mRNA, complete cds\n",
      "CGCGTATTTCGTTTGAGCCAATACCAAGTAGACAGAACCAACAAATTCGACACCAAATATGGCTCCTGCT\n",
      "ACTACGCTCACATCCATAGCGCATGAGAAAACCCTGCAACAAAAATTTGTCCGAGACGAAGACGAGCGTC\n",
      "CAAAGGTTGCCTACAACGACTTCAGCAACGAAATTCCGATCATCTCGCTTGCCGGGATCGATGAGGTGGA\n",
      "AGGCCGCCGGGGCGAGATTTGCAAGAAGATTGTAGCGGCTTGTGAAGACTGGGGTATTTTCCAGATTGTT\n",
      "GACCATGGGGTTGATGCTGAGCTCATATCGGAAATGACCGGTCTCGCTAGAGAGTTCTTTGCTTTGCCAT\n",
      "CGGAGGAGAAGCTCCGCTTCGACATGTCCGGTGGCAAAAAGGGTGGCTTCATCGTGTCCAGTCATTTACA\n",
      "GGGAGAAGCTGTGCAAGATTGGCGTGAAATTGTGACCTACTTTTCATATCCGATTCGTCACCGGGACTAT\n",
      "TCGAGGTGGCCAGACAAGCCTGAGGCCTGGAGGGAGGTGACAAAGAAGTACAGTGACGAGTTGATGGGGC\n",
      "TGGCATGCAAGCTCTTGGGCGTTTTATCAGAAGCCATGGGGTTGGATACAGAGGCATTGACAAAGGCATG\n",
      "TGTGGACATGGACCAAAAAGTCGTCGTGAATTTCTACCCAAAATGCCCTCAGCCCGACCTAACCCTTGGC\n",
      "CTCAAGCGCCATACCGACCCGGGCACAATTACCCTTCTGCTTCAAGACCAAGTTGGGGGCCTCCAGGCTA\n",
      "CTCGGGATGATGGGAAAACGTGGATCACCGTTCAACCAGTGGAAGGAGCTTTTGTGGTCAATCTTGGAGA\n",
      "TCATGGTCATCTTCTGAGCAATGGGAGGTTCAAGAATGCTGATCACCAAGCAGTGGTGAACTCAAACAGC\n",
      "AGCAGGCTGTCCATAGCCACATTCCAGAACCCAGCGCAAGAAGCAATAGTGTATCCACTCAGTGTGAGGG\n",
      "AGGGAGAGAAGCCGATTCTCGAGGCGCCAATCACCTACACCGAGATGTACAAGAAGAAGATGAGCAAGGA\n",
      "TCTTGAGCTCGCCAGGCTGAAAAAACTGGCCAAGGAACAGCAATCGCAGGACTTGGAGAAAGCCAAAGTG\n",
      "GATACAAAGCCAGTGGACGACATTTTTGCTTAGACTTTTCCAGTCACTTGAAAGCTCTTTGTGGAACTAT\n",
      "AGCTACTTGTACCTTTTCCTTCCACTTCTTGTACTCGTAACTTCTTTTTGGTGTGCTGGTGGCTTCCCCC\n",
      "CTAATCTGTTTAAGATCCGTGGTTGTCAAGGGCCCTTATATCCCATATTTAGTTTTTGTTCTTGAATTTT\n",
      "CATATCAGTTTCTTATCCTCCAACTTAAAAAAAAAAAAAA\n",
      "\n",
      ">JX069768.1 Momordica charantia carotenoid cleavage dioxygenase 1 (CCD1) mRNA, complete cds\n",
      "ATGGCGGAGGAGAAGCAGAAGCTCAATGGCGGAGTTGTTGACCGCTCGTTGGTGGAGGTCAATCCCAAGC\n",
      "CAAGCAAAGGCCTGGCTTCGAAGGCCACGGATTTGTTGGAGAAGCTGTTTGTGAAGCTCATGTATGATGC\n",
      "TTCAAACCCTCAGCATTATCTTTCCGGTAATTTCGCTCCGGTTCGCGATGAGACGCCTCCGATTACCGAT\n",
      "CTCCCTGTTAAAGGGTATCTTCCGGAATGCTTAAATGGAGAGTTTGTTAGGGTGGGACCAAATCCGAAGT\n",
      "TTAGCCCAGTTGCTGGCTATCACTGGTTTGACGGAGATGGCATGATCCATGGACTGCGCATTAAAGATGG\n",
      "AAAAGCAACATATGTTTCCCGTTATGTGAAGACATCTCGACTTAAACAAGAAGAATATTTTGGAGGTGCT\n",
      "AAATTCATGAAGATTGGTGATCTCAAAGGGTTCTTTGGGTTAATAATGGTCAATATGCAAATGCTGAGAG\n",
      "CAAAGTTGAAAGTGTTGGATGTTTCATATGGAACTGGGACAGGTAACACGGCTCTCATATATCATCATGG\n",
      "GAAGCTGCTTGCACTATCGGAGGCAGATAAACCTTATGTTATAAAAGTGTTGGAGGATGGAGACCTGCAA\n",
      "ACACTTGGTCTGCTGGATTATGACAAGAGATTAACGCACTCCTTCACTGCTCACCCAAAGGTTGACCCAG\n",
      "TGACTGGCGAAATGTTTACATTTGGTTATTCCCATTCACCACCATATGTTACTTACAGAGTTATTTCCAA\n",
      "GGATGGTCTCATGCATGACCCAATACCAATCACAATACCAAACCCGGTCATGATGCATGACTTCGCCATT\n",
      "ACTGAAAATTATGCAATTTTTATGGATCTTCCTTTATATTTTAAACCCAAGGAATTGGTCAAAGAAAATA\n",
      "AGTTAATTTTCACATTTGATGCTACTAAAAGAGCACGGTTTGGCGTGCTTCCAAGATATGCAAGAGATGA\n",
      "TTTGCTTATCCGATGGTTTGAGCTTCCAAATTGTTTTATATTTCATAATGCTAATGCCTGGGAGGAAGGA\n",
      "GATGAAGTAGTTTTGATTACTTGCCGTCTTGAGAACCCAGACTTGGACATGGTCAGTGGGTCTGTCAAGG\n",
      "AGAAGCTTGAGAACTTCTCAAATGAGCTGTATGAGATGAGATTCAATCTTAAATCTGGTCGAGCTTCACA\n",
      "GAAGAAACTATCAGAATCTGCTGTAGATTTTCCTAGAGTGAACGAAAGCTACACTGGCAGGAAACAACAA\n",
      "TATGTATATGGAACTATACTGGACAGCATTGCAAAAGTCACGGGGATTGCCAAATTTGATCTGAATGCTA\n",
      "AACCAGAAACTGGAAAAACAAAGATTGAAGTTGGAGGAAATGTTCAGGGCCTCTATGACCCCGGACCTGG\n",
      "TAGATTTGGTTCTGAAGCTATCTTTGTTCCTCGCATACCTGGCACCACTTCAGAAGAAGATGATGGCTAC\n",
      "TTAATATTCTTCGTACATGATGAGAACACCGGAAAATCGTCGGTGAATGTCATTGATGCAAAAACTATGT\n",
      "CAACTGAGCCTGTTGCAGTCGTTGAACTGCCACACAGAGTTCCATACGGGTTTCATGCCTTCTTTGTAAC\n",
      "AGAGGAGCAACTTCAAGAACAAGAAAGGCTCTGA\n",
      "\n",
      ">JX469983.1 Zea mays subsp. mays clone UT3343 G2-like transcription factor mRNA, partial cds\n",
      "ATGATGTATCATGCGAAGAATTTTTCTGTGCCCTTTGCTCCGCAGAGGGCACAGGATAATGAGCATGCAA\n",
      "GTAATATTGGAGGTATTGGTGGACCCAACATAAGCAACCCTGCTAATCCTGTAGGAAGTGGGAAACAACG\n",
      "GCTACGGTGGACATCGGATCTTCATAATCGCTTTGTGGATGCCATCGCCCAGCTTGGTGGACCAGACAGA\n",
      "GCTACACCTAAAGGGGTTCTCACTGTGATGGGTGTACCAGGGATCACAATTTATCATGTGAAGAGCCATC\n",
      "TGCAGAAGTATCGCCTTGCAAAGTATATACCCGACTCTCCTGCTGAAGGTTCCAAGGACGAAAAGAAAGA\n",
      "TTCGAGTGATTCCCTCTCGAACACGGATTCGGCACCAGGATTGCAAATCAATGAGGCACTAAAGATGCAA\n",
      "ATGGAGGTTCAGAAGCGACTACATGAGCAACTCGAGGTTCAAAGACAACTGCAACTAAGAATTGAAGCAC\n",
      "AAGGAAGATACTTGCAGATGATCATTGAGGAGCAACAAAAGCTTGGTGGATCAATTAAGGCTTCTGAGGA\n",
      "TCAGAAGCTTTCTGATTCACCTCCAAGCTTAGATGACTACCCAGAGAGCATGCAACCTTCTCCCAAGAAA\n",
      "CCAAGGATAGACGCATTATCACCAGATTCAGAGCGCGATACAACACAACCTGAATTCGAATCCCATTTGA\n",
      "TCGGTCCGTGGGATCACGGCATTGCATTCCCAGTGGAGGAGTTCAAAGCAGGCCCTGCTATGAGCAAGTC\n",
      "A\n",
      "\n",
      "\n"
     ]
    }
   ],
   "source": [
    "handle=Entrez.efetch(db=\"nucleotide\",id=inputList,rettype=\"fasta\")\n",
    "records=handle.read()\n",
    "print(records)"
   ]
  },
  {
   "cell_type": "code",
   "execution_count": 22,
   "metadata": {},
   "outputs": [
    {
     "name": "stdout",
     "output_type": "stream",
     "text": [
      "FJ817486.1\n",
      "771\n"
     ]
    }
   ],
   "source": [
    "from Bio import SeqIO\n",
    "handle=Entrez.efetch(db=\"nucleotide\",id=inputList,rettype=\"fasta\")\n",
    "records=list(SeqIO.parse(handle, \"fasta\"))\n",
    "print(records[0].id)\n",
    "print(len(records[-1].seq))\n"
   ]
  },
  {
   "cell_type": "code",
   "execution_count": 39,
   "metadata": {},
   "outputs": [
    {
     "name": "stdout",
     "output_type": "stream",
     "text": [
      ">JX469983.1 Zea mays subsp. mays clone UT3343 G2-like transcription factor mRNA, partial cds\n",
      "ATGATGTATCATGCGAAGAATTTTTCTGTGCCCTTTGCTCCGCAGAGGGCACAGGATAATGAGCATGCAAGTAATATTGG\n",
      "AGGTATTGGTGGACCCAACATAAGCAACCCTGCTAATCCTGTAGGAAGTGGGAAACAACGGCTACGGTGGACATCGGATC\n",
      "TTCATAATCGCTTTGTGGATGCCATCGCCCAGCTTGGTGGACCAGACAGAGCTACACCTAAAGGGGTTCTCACTGTGATG\n",
      "GGTGTACCAGGGATCACAATTTATCATGTGAAGAGCCATCTGCAGAAGTATCGCCTTGCAAAGTATATACCCGACTCTCC\n",
      "TGCTGAAGGTTCCAAGGACGAAAAGAAAGATTCGAGTGATTCCCTCTCGAACACGGATTCGGCACCAGGATTGCAAATCA\n",
      "ATGAGGCACTAAAGATGCAAATGGAGGTTCAGAAGCGACTACATGAGCAACTCGAGGTTCAAAGACAACTGCAACTAAGA\n",
      "ATTGAAGCACAAGGAAGATACTTGCAGATGATCATTGAGGAGCAACAAAAGCTTGGTGGATCAATTAAGGCTTCTGAGGA\n",
      "TCAGAAGCTTTCTGATTCACCTCCAAGCTTAGATGACTACCCAGAGAGCATGCAACCTTCTCCCAAGAAACCAAGGATAG\n",
      "ACGCATTATCACCAGATTCAGAGCGCGATACAACACAACCTGAATTCGAATCCCATTTGATCGGTCCGTGGGATCACGGC\n",
      "ATTGCATTCCCAGTGGAGGAGTTCAAAGCAGGCCCTGCTATGAGCAAGTCA\n"
     ]
    }
   ],
   "source": [
    "from Bio import Entrez, SeqIO\n",
    "import ssl\n",
    "\n",
    "ssl._create_default_https_context=ssl._create_unverified_context\n",
    "Entrez.email=\"xxx\"\n",
    "\n",
    "with open(\"/Users/yavuzsebe/Downloads/rosalind_frmt.txt\",\"r\") as inputFileRaw:\n",
    "    inputFile,inputList=inputFileRaw.readlines(),[]\n",
    "    for i in inputFile[0].split():\n",
    "        inputList.append(i)\n",
    "\n",
    "handle=Entrez.efetch(db=\"nucleotide\",id=inputList,rettype=\"fasta\")\n",
    "records=list(SeqIO.parse(handle, \"fasta\"))\n",
    "\n",
    "lenghts,i=[],0\n",
    "while i<len(records):\n",
    "    lenghts.append(len(records[i].seq))\n",
    "    i+=1\n",
    "\n",
    "description=records[lenghts.index(min(lenghts))].description\n",
    "seq=records[lenghts.index(min(lenghts))].seq\n",
    "\n",
    "fastaSeq,i=\"\",0\n",
    "while i<len(seq):\n",
    "    if i%80==0:\n",
    "      fastaSeq+=\"\\n\"\n",
    "    fastaSeq+=seq[i]\n",
    "    i+=1\n",
    "\n",
    "print(f\">{description}{fastaSeq}\")"
   ]
  },
  {
   "cell_type": "code",
   "execution_count": 40,
   "metadata": {},
   "outputs": [
    {
     "name": "stdout",
     "output_type": "stream",
     "text": [
      ">JX569368.1 Myrciaria dubia isolate 1-3 actin (act) mRNA, partial cds\n",
      "TTGTTTGTGACAATGGAACTGGAATGGTGAAGGCTGGGTTTGCTGGTGATGATGCCCCTAGGGCAGTCTTCCCCAGCATT\n",
      "GTTGGCAGGCCACGACACACTGGTGTCATGGTTGGAATGGGTCAGAAGGATGCCTATGTTGGTGATGAAGCCCAATCTAA\n",
      "AAGAGGTATTCTTACYTTGAAATACCCCATTGAGCATGGTATTGTCAGCAAYTGGGAYGACATGGAGAAAATTTGGCATC\n",
      "ACACATTCTACAAT\n"
     ]
    }
   ],
   "source": [
    "from Bio import Entrez, SeqIO\n",
    "import ssl\n",
    "\n",
    "ssl._create_default_https_context=ssl._create_unverified_context\n",
    "Entrez.email=\"xxx\"\n",
    "\n",
    "with open(\"/Users/yavuzsebe/Downloads/rosalind_frmt.txt\",\"r\") as inputFileRaw:\n",
    "    inputFile,inputList=inputFileRaw.readlines(),[]\n",
    "    for i in inputFile[0].split():\n",
    "        inputList.append(i)\n",
    "\n",
    "handle=Entrez.efetch(db=\"nucleotide\",id=inputList,rettype=\"fasta\")\n",
    "records=list(SeqIO.parse(handle, \"fasta\"))\n",
    "\n",
    "lenghts,i=[],0\n",
    "while i<len(records):\n",
    "    lenghts.append(len(records[i].seq))\n",
    "    i+=1\n",
    "\n",
    "description=records[lenghts.index(min(lenghts))].description\n",
    "seq=records[lenghts.index(min(lenghts))].seq\n",
    "\n",
    "fastaSeq,i=\"\",0\n",
    "while i<len(seq):\n",
    "    if i%80==0:\n",
    "      fastaSeq+=\"\\n\"\n",
    "    fastaSeq+=seq[i]\n",
    "    i+=1\n",
    "\n",
    "print(f\">{description}{fastaSeq}\")"
   ]
  },
  {
   "cell_type": "code",
   "execution_count": null,
   "metadata": {},
   "outputs": [],
   "source": []
  }
 ],
 "metadata": {
  "kernelspec": {
   "display_name": "Python 3",
   "language": "python",
   "name": "python3"
  },
  "language_info": {
   "codemirror_mode": {
    "name": "ipython",
    "version": 3
   },
   "file_extension": ".py",
   "mimetype": "text/x-python",
   "name": "python",
   "nbconvert_exporter": "python",
   "pygments_lexer": "ipython3",
   "version": "3.12.6"
  }
 },
 "nbformat": 4,
 "nbformat_minor": 2
}
