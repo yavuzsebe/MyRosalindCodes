{
 "cells": [
  {
   "cell_type": "code",
   "execution_count": 5,
   "metadata": {},
   "outputs": [
    {
     "name": "stdout",
     "output_type": "stream",
     "text": [
      "Score: 257.0\n"
     ]
    },
    {
     "name": "stderr",
     "output_type": "stream",
     "text": [
      "Needleman-Wunsch global alignment of two sequences\n"
     ]
    }
   ],
   "source": [
    "from Bio import Entrez\n",
    "import ssl, subprocess\n",
    "ssl._create_default_https_context=ssl._create_unverified_context\n",
    "Entrez.email=\"xxx\"\n",
    "\n",
    "idList=[]\n",
    "with open(\"/Users/yavuzsebe/Downloads/rosalind_need.txt\",\"r\") as inputFileRaw: \n",
    "    #rosalind_need.txt contains \"JX205496.1 JX469991.1\" text.\n",
    "    inputFile=inputFileRaw.readlines()\n",
    "    idList.append(inputFile[0].split()[0])\n",
    "    idList.append(inputFile[0].split()[1])\n",
    "    #current idList should be ['JX205496.1', 'JX469991.1'].\n",
    "\n",
    "fileOutput=[]\n",
    "for i in idList:\n",
    "    handle=Entrez.efetch(db=\"nucleotide\",id=i,rettype=\"fasta\")\n",
    "    record=handle.read()\n",
    "    fileOutput.append(record)\n",
    "\n",
    "for i,j in zip(fileOutput,idList):\n",
    "    with open(f\"/Users/yavuzsebe/Downloads/data/{j}.fasta\",\"w\") as outputFasta:\n",
    "        outputFasta.write(i)\n",
    "\n",
    "subprocess.run([\"needle\", \n",
    "                f\"/Users/yavuzsebe/Downloads/data/{idList[0]}.fasta\", \n",
    "                f\"/Users/yavuzsebe/Downloads/data/{idList[1]}.fasta\",\n",
    "                \"-gapopen\", \"10\",\n",
    "                \"-gapextend\", \"1\",\n",
    "                \"-endopen\", \"10\",\n",
    "                \"-endextend\", \"1\",\n",
    "                \"-endweight\",\n",
    "                \"-outfile\",\n",
    "                f\"/Users/yavuzsebe/Downloads/data/output-{idList[0]}-{idList[1]}.txt\"\n",
    "                ])\n",
    "\n",
    "with open(f\"/Users/yavuzsebe/Downloads/data/output-{idList[0]}-{idList[1]}.txt\",\"r\") as output:\n",
    "    outputReads=output.readlines()\n",
    "    outputReadsStr=\"\"\n",
    "    for i in outputReads:\n",
    "        outputReadsStr+=i\n",
    "\n",
    "print(outputReadsStr[outputReadsStr.find(\"Score: \"):outputReadsStr.find(\"\\n\", outputReadsStr.find(\"Score: \"))])"
   ]
  },
  {
   "cell_type": "code",
   "execution_count": null,
   "metadata": {},
   "outputs": [],
   "source": []
  }
 ],
 "metadata": {
  "kernelspec": {
   "display_name": "Python 3",
   "language": "python",
   "name": "python3"
  },
  "language_info": {
   "codemirror_mode": {
    "name": "ipython",
    "version": 3
   },
   "file_extension": ".py",
   "mimetype": "text/x-python",
   "name": "python",
   "nbconvert_exporter": "python",
   "pygments_lexer": "ipython3",
   "version": "3.12.6"
  }
 },
 "nbformat": 4,
 "nbformat_minor": 2
}
