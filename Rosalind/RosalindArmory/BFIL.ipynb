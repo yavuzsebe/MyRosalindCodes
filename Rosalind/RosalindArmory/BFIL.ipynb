{
 "cells": [
  {
   "cell_type": "code",
   "execution_count": 1,
   "metadata": {},
   "outputs": [],
   "source": [
    "with open(\"/Users/yavuzsebe/Downloads/rosalind_bfil.txt\",\"r\") as inputFileRaw:\n",
    "    inputFile=inputFileRaw.readlines()\n",
    "cutoff=int(inputFile.pop(0).split()[0])\n",
    "\n",
    "with open(\"/Users/yavuzsebe/Downloads/rosalind_bfil_main.txt\",\"w\") as outputFile:\n",
    "\tfor i in inputFile:\n",
    "\t\toutputFile.write(i)\n",
    "\n",
    "inputList=[]\n",
    "for i in inputFile:\n",
    "    inputList.append(i.split())\n",
    "        \n",
    "for i in range(3,len(inputList),4):\n",
    "    for j in range(0,len(inputList[i][0])):\n",
    "        baseQuality=ord(inputList[i][0][j])-33\n",
    "        if baseQuality<cutoff:\n",
    "            inputList[i-2][0]=inputList[i-2][0][1:]\n",
    "            inputList[i][0]=inputList[i][0][1:]\n",
    "        else:\n",
    "            break\n",
    "\n",
    "for i in range(3,len(inputList),4):\n",
    "    for j in range(len(inputList[i][0])-1,0,-1):\n",
    "        baseQuality=ord(inputList[i][0][j])-33\n",
    "        if baseQuality<cutoff:\n",
    "            inputList[i-2][0]=inputList[i-2][0][:-1]\n",
    "            inputList[i][0]=inputList[i][0][:-1]\n",
    "        else:\n",
    "            break\n",
    "\n",
    "with open(\"/Users/yavuzsebe/Downloads/rosalind_bfil_answer.txt\",\"w\") as outputFile:\n",
    "    spaceCount=0\n",
    "    for i in inputList:\n",
    "        if spaceCount%4!=0:\n",
    "            outputFile.write(i[0]+\"\\n\")\n",
    "            spaceCount+=1\n",
    "        elif spaceCount%4==0 and spaceCount!=0:\n",
    "            outputFile.write(\"\\n\"+i[0]+\"\\n\")\n",
    "            spaceCount+=1\n",
    "        else:\n",
    "            outputFile.write(i[0]+\"\\n\")\n",
    "            spaceCount+=1"
   ]
  },
  {
   "cell_type": "code",
   "execution_count": null,
   "metadata": {},
   "outputs": [],
   "source": [
    "# a different approach by zonghui0228 (https://github.com/zonghui0228/rosalind-solutions/blob/master/code/rosalind_bfil.py)\n",
    "\n",
    "from Bio import SeqIO\n",
    "\n",
    "def Base_Filtration_Quality(data):\n",
    "    records = []\n",
    "    with open(data, \"r\") as f:\n",
    "        t = int(f.readline().strip())\n",
    "        for record in SeqIO.parse(f, \"fastq\"):\n",
    "            phred = record.letter_annotations[\"phred_quality\"]\n",
    "            start, end = 0, len(phred)\n",
    "            while phred[start] < t:\n",
    "                start += 1\n",
    "            while phred[end-1] < t:\n",
    "                end -= 1\n",
    "            print(record[start:end].format('fastq'))\n",
    "\n",
    "if __name__ == \"__main__\":\n",
    "    data = \"../data/rosalind_bfil.txt\"\n",
    "    Base_Filtration_Quality(data)"
   ]
  }
 ],
 "metadata": {
  "kernelspec": {
   "display_name": "base",
   "language": "python",
   "name": "python3"
  },
  "language_info": {
   "codemirror_mode": {
    "name": "ipython",
    "version": 3
   },
   "file_extension": ".py",
   "mimetype": "text/x-python",
   "name": "python",
   "nbconvert_exporter": "python",
   "pygments_lexer": "ipython3",
   "version": "3.12.2"
  }
 },
 "nbformat": 4,
 "nbformat_minor": 2
}
