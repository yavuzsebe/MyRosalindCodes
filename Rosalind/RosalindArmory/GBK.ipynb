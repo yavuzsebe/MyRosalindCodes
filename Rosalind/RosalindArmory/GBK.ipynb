{
 "cells": [
  {
   "cell_type": "code",
   "execution_count": 10,
   "metadata": {},
   "outputs": [],
   "source": [
    "from Bio import Entrez\n",
    "import ssl\n",
    "ssl._create_default_https_context=ssl._create_unverified_context\n",
    "Entrez.email=\"xxx\""
   ]
  },
  {
   "cell_type": "code",
   "execution_count": 11,
   "metadata": {},
   "outputs": [
    {
     "name": "stdout",
     "output_type": "stream",
     "text": [
      "{'Count': '66336678', 'RetMax': '20', 'RetStart': '0', 'IdList': ['2833770682', '2833770680', '2833770656', '2833770646', '2833770644', '2833770641', '2833770638', '2833770596', '2833770587', '2833770582', '2833770578', '2833770539', '2833770535', '2833770522', '2833770476', '2833770474', '2833770469', '2833770467', '2833770465', '2833770464'], 'TranslationSet': [{'From': 'Homo sapiens', 'To': '\"Homo sapiens\"[Organism] OR Homo sapiens[All Fields]'}], 'TranslationStack': [{'Term': '\"Homo sapiens\"[Organism]', 'Field': 'Organism', 'Count': '28641396', 'Explode': 'Y'}, {'Term': 'Homo sapiens[All Fields]', 'Field': 'All Fields', 'Count': '66336676', 'Explode': 'N'}, 'OR', 'GROUP'], 'QueryTranslation': '\"Homo sapiens\"[Organism] OR Homo sapiens[All Fields]'}\n"
     ]
    }
   ],
   "source": [
    "handle=Entrez.esearch(db=\"nucleotide\",term=\"Homo sapiens\")\n",
    "record=Entrez.read(handle)\n",
    "print(record)"
   ]
  },
  {
   "cell_type": "code",
   "execution_count": 12,
   "metadata": {},
   "outputs": [
    {
     "data": {
      "text/plain": [
       "'39'"
      ]
     },
     "execution_count": 12,
     "metadata": {},
     "output_type": "execute_result"
    }
   ],
   "source": [
    "handle=Entrez.esearch(db=\"nucleotide\",term='\"Zea mays\"[Organism] AND rbcL[Gene]')\n",
    "record=Entrez.read(handle)\n",
    "record[\"Count\"]"
   ]
  },
  {
   "cell_type": "code",
   "execution_count": 34,
   "metadata": {},
   "outputs": [
    {
     "data": {
      "text/plain": [
       "'7'"
      ]
     },
     "execution_count": 34,
     "metadata": {},
     "output_type": "execute_result"
    }
   ],
   "source": [
    "handle=Entrez.esearch(db=\"nucleotide\",term='\"Anthoxanthum\"[Organism] AND (\"2003/7/25\"[PDAT]:\"2005/12/27\"[PDAT])')\n",
    "record=Entrez.read(handle)\n",
    "record[\"Count\"]"
   ]
  },
  {
   "cell_type": "code",
   "execution_count": 35,
   "metadata": {},
   "outputs": [
    {
     "data": {
      "text/plain": [
       "{'Count': '7', 'RetMax': '7', 'RetStart': '0', 'IdList': ['33413983', '33413982', '33413981', '33413980', '71056585', '57283843', '57283791'], 'TranslationSet': [{'From': '\"Anthoxanthum\"[Organism]', 'To': '\"Anthoxanthum\"[Organism]'}], 'TranslationStack': [{'Term': '\"Anthoxanthum\"[Organism]', 'Field': 'Organism', 'Count': '85421', 'Explode': 'Y'}, {'Term': '\"2003/7/25\"[PDAT]', 'Field': 'PDAT', 'Count': '0', 'Explode': 'N'}, {'Term': '\"2005/12/27\"[PDAT]', 'Field': 'PDAT', 'Count': '0', 'Explode': 'N'}, 'RANGE', 'GROUP', 'AND'], 'QueryTranslation': '\"Anthoxanthum\"[Organism] AND (\"2003/7/25\"[PDAT] : \"2005/12/27\"[PDAT])'}"
      ]
     },
     "execution_count": 35,
     "metadata": {},
     "output_type": "execute_result"
    }
   ],
   "source": [
    "record"
   ]
  },
  {
   "cell_type": "code",
   "execution_count": 48,
   "metadata": {},
   "outputs": [
    {
     "data": {
      "text/plain": [
       "'7'"
      ]
     },
     "execution_count": 48,
     "metadata": {},
     "output_type": "execute_result"
    }
   ],
   "source": [
    "from Bio import Entrez\n",
    "import ssl\n",
    "ssl._create_default_https_context=ssl._create_unverified_context\n",
    "Entrez.email=\"xxx\"\n",
    "\n",
    "with open(\"/Users/yavuzsebe/Downloads/rosalind_gbk.txt\",\"r\") as inputFileRaw:\n",
    "    inputFile=inputFileRaw.readlines()\n",
    "    organism=inputFile[0].strip()\n",
    "    mindate=inputFile[1].strip()\n",
    "    maxdate=inputFile[2].strip()\n",
    "handle=Entrez.esearch(db=\"nucleotide\",term=f'\"{organism}\"[Organism] AND (\"{mindate}\"[PDAT]:\"{maxdate}\"[PDAT])')\n",
    "record=Entrez.read(handle)\n",
    "record[\"Count\"]"
   ]
  },
  {
   "cell_type": "code",
   "execution_count": 50,
   "metadata": {},
   "outputs": [
    {
     "data": {
      "text/plain": [
       "'15'"
      ]
     },
     "execution_count": 50,
     "metadata": {},
     "output_type": "execute_result"
    }
   ],
   "source": [
    "from Bio import Entrez\n",
    "import ssl\n",
    "ssl._create_default_https_context=ssl._create_unverified_context\n",
    "Entrez.email=\"xxx\"\n",
    "\n",
    "with open(\"/Users/yavuzsebe/Downloads/rosalind_gbk.txt\",\"r\") as inputFileRaw:\n",
    "    inputFile=inputFileRaw.readlines()\n",
    "    organism=inputFile[0].strip()\n",
    "    mindate=inputFile[1].strip()\n",
    "    maxdate=inputFile[2].strip()\n",
    "handle=Entrez.esearch(db=\"nucleotide\",term=f'\"{organism}\"[Organism] AND (\"{mindate}\"[PDAT]:\"{maxdate}\"[PDAT])')\n",
    "record=Entrez.read(handle)\n",
    "record[\"Count\"]"
   ]
  },
  {
   "cell_type": "code",
   "execution_count": null,
   "metadata": {},
   "outputs": [],
   "source": []
  }
 ],
 "metadata": {
  "kernelspec": {
   "display_name": "Python 3",
   "language": "python",
   "name": "python3"
  },
  "language_info": {
   "codemirror_mode": {
    "name": "ipython",
    "version": 3
   },
   "file_extension": ".py",
   "mimetype": "text/x-python",
   "name": "python",
   "nbconvert_exporter": "python",
   "pygments_lexer": "ipython3",
   "version": "3.12.6"
  }
 },
 "nbformat": 4,
 "nbformat_minor": 2
}
