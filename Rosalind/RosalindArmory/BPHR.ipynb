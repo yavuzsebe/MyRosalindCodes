{
 "cells": [
  {
   "cell_type": "code",
   "execution_count": 2,
   "metadata": {},
   "outputs": [
    {
     "name": "stdout",
     "output_type": "stream",
     "text": [
      "dict_keys(['phred_quality'])\n",
      "[19, 28, 25, 30, 31, 38, 19, 22, 25, 24, 22, 27, 28, 20, 15, 12, 19, 30, 26, 38, 21, 22, 17, 22, 23, 31, 25, 17, 26, 21, 18, 27, 27, 21, 20, 28, 22, 27, 29, 26, 18, 21, 18, 26, 16, 22, 19, 24, 23, 22, 22, 26, 24, 18, 23, 24, 22, 27, 25, 18, 24, 32, 14, 23, 26, 24, 21, 23, 32, 20, 22, 25, 17, 13, 15, 17, 32, 24, 16, 23, 17, 19, 18, 22, 12, 21, 30, 22, 16, 18, 19, 27, 18, 22, 22, 18, 17, 22, 32, 19, 27, 13, 18, 26, 24, 25, 31, 24, 29, 19, 19, 26, 19, 20, 19, 20, 17, 23, 19, 21, 19, 18, 17, 29, 19, 28, 16, 14, 27, 17, 17, 21, 18, 17, 20, 19, 18, 13, 24, 14, 17, 5, 22, 24, 23, 10, 24, 15, 14, 29, 12, 15, 11, 26, 31, 16, 18, 18, 22, 16, 18, 9, 28, 11, 5, 13, 12, 16, 11, 20, 12, 13, 18, 21, 18, 22, 13, 22, 0, 17, 19, 13, 5, 11, 18, 16, 12, 4, 8, 14, 10, 12, 5]\n"
     ]
    }
   ],
   "source": [
    "from Bio import SeqIO\n",
    "\n",
    "with open(\"/Users/yavuzsebe/rosalindData/rosalind_bphr.txt\",\"r\") as inputFileRaw:\n",
    "    inputFile=inputFileRaw.readlines()\n",
    "    thresholdAndpercentage=inputFile.pop(0).strip()\n",
    "    threshold=thresholdAndpercentage.split()[0]\n",
    "q = int(threshold)\n",
    "\n",
    "with open(\"/Users/yavuzsebe/rosalindData/rosalind_bphr_main.txt\",\"w\") as outputFile:\n",
    "\tfor i in inputFile:\n",
    "\t\toutputFile.write(i)\n",
    "\n",
    "records = list(SeqIO.parse(\"/Users/yavuzsebe/rosalindData/rosalind_bphr_main.txt\", \"fastq\"))\n",
    "\n",
    "print(next(SeqIO.parse(\"/Users/yavuzsebe/rosalindData/rosalind_bphr_main.txt\", \"fastq\")).letter_annotations.keys()) # print the keys of letter_annotations for the first record\n",
    "# dict_keys(['phred_quality'])\n",
    "\n",
    "print(records[0].letter_annotations[\"phred_quality\"]) # print the phred_quality of the first record in the records list\n",
    "# [29, 30, 37, 30, 31, 21, 27, 34, 27, 39, 37, 30, 27, 23, 20, 19, 23, 21, 33, 26, 23, 20, 25, 23, 19, 23, 23, 14, 17, 14]"
   ]
  },
  {
   "cell_type": "code",
   "execution_count": 3,
   "metadata": {},
   "outputs": [
    {
     "name": "stdout",
     "output_type": "stream",
     "text": [
      "20\n"
     ]
    }
   ],
   "source": [
    "from Bio import SeqIO\n",
    "\n",
    "with open(\"/Users/yavuzsebe/Downloads/rosalind_bphr.txt\",\"r\") as inputFileRaw:\n",
    "    inputFile=inputFileRaw.readlines()\n",
    "    thresholdAndpercentage=inputFile.pop(0).strip()\n",
    "    threshold=thresholdAndpercentage.split()[0]\n",
    "quality = int(threshold)\n",
    "\n",
    "with open(\"/Users/yavuzsebe/Downloads/rosalind_bphr_main.txt\",\"w\") as outputFile:\n",
    "\tfor i in inputFile:\n",
    "\t\toutputFile.write(i)\n",
    "\n",
    "records = list(SeqIO.parse(\"/Users/yavuzsebe/Downloads/rosalind_bphr_main.txt\", \"fastq\"))\n",
    "\n",
    "recordLen=len(records[0].letter_annotations[\"phred_quality\"])\n",
    "recordCount=len(records)\n",
    "\n",
    "qualityList=[[] for _ in range(recordLen)]\n",
    "for i in records:\n",
    "\tfor j in range(0,recordLen):\n",
    "\t    qualityList[j].append(i.letter_annotations[\"phred_quality\"][j])\n",
    "\n",
    "columnSum=0\n",
    "belowCount=0\n",
    "for i in qualityList:\n",
    "\tcolumnSum=0\n",
    "\tfor j in i:\n",
    "\t\tcolumnSum+=j\n",
    "\tif (columnSum/recordCount)<quality:\n",
    "\t\tbelowCount+=1\n",
    "\n",
    "print(belowCount)"
   ]
  },
  {
   "cell_type": "code",
   "execution_count": null,
   "metadata": {},
   "outputs": [],
   "source": []
  }
 ],
 "metadata": {
  "kernelspec": {
   "display_name": "base",
   "language": "python",
   "name": "python3"
  },
  "language_info": {
   "codemirror_mode": {
    "name": "ipython",
    "version": 3
   },
   "file_extension": ".py",
   "mimetype": "text/x-python",
   "name": "python",
   "nbconvert_exporter": "python",
   "pygments_lexer": "ipython3",
   "version": "3.12.2"
  }
 },
 "nbformat": 4,
 "nbformat_minor": 2
}
