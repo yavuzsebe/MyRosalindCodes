{
 "cells": [
  {
   "cell_type": "code",
   "execution_count": 2,
   "metadata": {},
   "outputs": [
    {
     "name": "stdout",
     "output_type": "stream",
     "text": [
      "0.7833333333333333\n"
     ]
    }
   ],
   "source": [
    "k, m, n= 2, 2, 2\n",
    "totIndv=k+m+n\n",
    "poam=totIndv*(totIndv-1)*2 #production of all matings\n",
    "\n",
    "populationProfiles=[]\n",
    "populationProfiles+=[(1,1)]*k\n",
    "populationProfiles+=[(1,0)]*m\n",
    "populationProfiles+=[(0,0)]*n\n",
    "\n",
    "domProfiles=[(1,0),(0,1),(1,1)]\n",
    "recProfiles=[(0,0)]\n",
    "\n",
    "osp=[] #offspring profiles\n",
    "\n",
    "i=0\n",
    "while i<(len(populationProfiles)):\n",
    "    j=0\n",
    "    while j<(len(populationProfiles)):\n",
    "        if i!=j:\n",
    "            k=0\n",
    "            while k<2:\n",
    "                l=0\n",
    "                while l<2: \n",
    "                    osp+=[(populationProfiles[i][k],populationProfiles[j][l])]\n",
    "                    l+=1\n",
    "                k+=1\n",
    "        else: \n",
    "            pass\n",
    "        j+=1\n",
    "    i+=1\n",
    "\n",
    "domCount=0\n",
    "recCount=0\n",
    "for i in osp:\n",
    "    if i in domProfiles:\n",
    "        domCount+=1\n",
    "    elif i in recProfiles:\n",
    "        recCount+=1\n",
    "if domCount+recCount==len(osp):\n",
    "    print(domCount/len(osp))\n",
    "else:\n",
    "    print(\"There's been a mistake!\")"
   ]
  },
  {
   "cell_type": "code",
   "execution_count": 3,
   "metadata": {},
   "outputs": [
    {
     "data": {
      "text/plain": [
       "[(1, 1), (1, 1), (1, 0), (1, 0), (0, 0), (0, 0)]"
      ]
     },
     "execution_count": 3,
     "metadata": {},
     "output_type": "execute_result"
    }
   ],
   "source": [
    "populationProfiles"
   ]
  },
  {
   "cell_type": "code",
   "execution_count": 4,
   "metadata": {},
   "outputs": [
    {
     "data": {
      "text/plain": [
       "[(0, 0),\n",
       " (0, 0),\n",
       " (0, 0),\n",
       " (0, 0),\n",
       " (0, 0),\n",
       " (0, 0),\n",
       " (0, 0),\n",
       " (0, 0),\n",
       " (0, 0),\n",
       " (0, 0),\n",
       " (0, 0),\n",
       " (0, 0),\n",
       " (0, 0),\n",
       " (0, 0),\n",
       " (0, 0),\n",
       " (0, 0),\n",
       " (0, 0),\n",
       " (0, 0),\n",
       " (0, 0),\n",
       " (0, 0),\n",
       " (0, 0),\n",
       " (0, 0),\n",
       " (0, 0),\n",
       " (0, 0),\n",
       " (0, 0),\n",
       " (0, 0),\n",
       " (0, 1),\n",
       " (0, 1),\n",
       " (0, 1),\n",
       " (0, 1),\n",
       " (0, 1),\n",
       " (0, 1),\n",
       " (0, 1),\n",
       " (0, 1),\n",
       " (0, 1),\n",
       " (0, 1),\n",
       " (0, 1),\n",
       " (0, 1),\n",
       " (0, 1),\n",
       " (0, 1),\n",
       " (0, 1),\n",
       " (0, 1),\n",
       " (0, 1),\n",
       " (0, 1),\n",
       " (0, 1),\n",
       " (0, 1),\n",
       " (0, 1),\n",
       " (0, 1),\n",
       " (0, 1),\n",
       " (0, 1),\n",
       " (0, 1),\n",
       " (0, 1),\n",
       " (0, 1),\n",
       " (0, 1),\n",
       " (0, 1),\n",
       " (0, 1),\n",
       " (0, 1),\n",
       " (0, 1),\n",
       " (0, 1),\n",
       " (0, 1),\n",
       " (1, 0),\n",
       " (1, 0),\n",
       " (1, 0),\n",
       " (1, 0),\n",
       " (1, 0),\n",
       " (1, 0),\n",
       " (1, 0),\n",
       " (1, 0),\n",
       " (1, 0),\n",
       " (1, 0),\n",
       " (1, 0),\n",
       " (1, 0),\n",
       " (1, 0),\n",
       " (1, 0),\n",
       " (1, 0),\n",
       " (1, 0),\n",
       " (1, 0),\n",
       " (1, 0),\n",
       " (1, 0),\n",
       " (1, 0),\n",
       " (1, 0),\n",
       " (1, 0),\n",
       " (1, 0),\n",
       " (1, 0),\n",
       " (1, 0),\n",
       " (1, 0),\n",
       " (1, 0),\n",
       " (1, 0),\n",
       " (1, 0),\n",
       " (1, 0),\n",
       " (1, 0),\n",
       " (1, 0),\n",
       " (1, 0),\n",
       " (1, 0),\n",
       " (1, 1),\n",
       " (1, 1),\n",
       " (1, 1),\n",
       " (1, 1),\n",
       " (1, 1),\n",
       " (1, 1),\n",
       " (1, 1),\n",
       " (1, 1),\n",
       " (1, 1),\n",
       " (1, 1),\n",
       " (1, 1),\n",
       " (1, 1),\n",
       " (1, 1),\n",
       " (1, 1),\n",
       " (1, 1),\n",
       " (1, 1),\n",
       " (1, 1),\n",
       " (1, 1),\n",
       " (1, 1),\n",
       " (1, 1),\n",
       " (1, 1),\n",
       " (1, 1),\n",
       " (1, 1),\n",
       " (1, 1),\n",
       " (1, 1),\n",
       " (1, 1)]"
      ]
     },
     "execution_count": 4,
     "metadata": {},
     "output_type": "execute_result"
    }
   ],
   "source": [
    "osp.sort()\n",
    "osp"
   ]
  },
  {
   "cell_type": "code",
   "execution_count": 5,
   "metadata": {},
   "outputs": [
    {
     "data": {
      "text/plain": [
       "94"
      ]
     },
     "execution_count": 5,
     "metadata": {},
     "output_type": "execute_result"
    }
   ],
   "source": [
    "domCount"
   ]
  },
  {
   "cell_type": "code",
   "execution_count": 6,
   "metadata": {},
   "outputs": [
    {
     "data": {
      "text/plain": [
       "26"
      ]
     },
     "execution_count": 6,
     "metadata": {},
     "output_type": "execute_result"
    }
   ],
   "source": [
    "recCount"
   ]
  },
  {
   "cell_type": "code",
   "execution_count": 7,
   "metadata": {},
   "outputs": [
    {
     "name": "stdout",
     "output_type": "stream",
     "text": [
      "0.6875231395779341\n"
     ]
    }
   ],
   "source": [
    "k, m, n= 18, 29, 27\n",
    "totIndv=k+m+n\n",
    "poam=totIndv*(totIndv-1)*2 #production of all matings\n",
    "\n",
    "populationProfiles=[]\n",
    "populationProfiles+=[(1,1)]*k\n",
    "populationProfiles+=[(1,0)]*m\n",
    "populationProfiles+=[(0,0)]*n\n",
    "\n",
    "domProfiles=[(1,0),(0,1),(1,1)]\n",
    "recProfiles=[(0,0)]\n",
    "\n",
    "osp=[] #offspring profiles\n",
    "\n",
    "i=0\n",
    "while i<(len(populationProfiles)):\n",
    "    j=0\n",
    "    while j<(len(populationProfiles)):\n",
    "        if i!=j:\n",
    "            k=0\n",
    "            while k<2:\n",
    "                l=0\n",
    "                while l<2: \n",
    "                    osp+=[(populationProfiles[i][k],populationProfiles[j][l])]\n",
    "                    l+=1\n",
    "                k+=1\n",
    "        else: \n",
    "            pass\n",
    "        j+=1\n",
    "    i+=1\n",
    "\n",
    "domCount=0\n",
    "recCount=0\n",
    "for i in osp:\n",
    "    if i in domProfiles:\n",
    "        domCount+=1\n",
    "    elif i in recProfiles:\n",
    "        recCount+=1\n",
    "if domCount+recCount==len(osp):\n",
    "    print(domCount/len(osp))\n",
    "else:\n",
    "    print(\"There's been a mistake!\")"
   ]
  },
  {
   "cell_type": "code",
   "execution_count": null,
   "metadata": {},
   "outputs": [],
   "source": []
  }
 ],
 "metadata": {
  "kernelspec": {
   "display_name": "Python 3",
   "language": "python",
   "name": "python3"
  },
  "language_info": {
   "codemirror_mode": {
    "name": "ipython",
    "version": 3
   },
   "file_extension": ".py",
   "mimetype": "text/x-python",
   "name": "python",
   "nbconvert_exporter": "python",
   "pygments_lexer": "ipython3",
   "version": "3.12.6"
  }
 },
 "nbformat": 4,
 "nbformat_minor": 2
}
