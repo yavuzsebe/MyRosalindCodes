{
 "cells": [
  {
   "cell_type": "code",
   "execution_count": 27,
   "metadata": {},
   "outputs": [
    {
     "name": "stdout",
     "output_type": "stream",
     "text": [
      "19\n",
      "21\n"
     ]
    }
   ],
   "source": [
    "months=5\n",
    "opg=3 #offspring per generation\n",
    "\n",
    "parent=1\n",
    "children=0\n",
    "\n",
    "reproductive=0\n",
    "\n",
    "i=1\n",
    "while i<months: \n",
    "        children=0\n",
    "        children+=parent*opg\n",
    "        parent+=reproductive\n",
    "        reproductive=0\n",
    "        reproductive+=children\n",
    "        i+=1\n",
    "print(parent)\n"
   ]
  },
  {
   "cell_type": "code",
   "execution_count": 28,
   "metadata": {},
   "outputs": [
    {
     "name": "stdout",
     "output_type": "stream",
     "text": [
      "1323839213083\n",
      "1724665464597\n"
     ]
    }
   ],
   "source": [
    "months=35\n",
    "opg=3 \n",
    "\n",
    "parent=1\n",
    "children=0\n",
    "\n",
    "reproductive=0\n",
    "\n",
    "i=1\n",
    "while i<months: \n",
    "        children=0\n",
    "        children+=parent*opg\n",
    "        parent+=reproductive\n",
    "        reproductive=0\n",
    "        reproductive+=children\n",
    "        i+=1\n",
    "print(parent)\n"
   ]
  },
  {
   "cell_type": "code",
   "execution_count": null,
   "metadata": {},
   "outputs": [],
   "source": []
  }
 ],
 "metadata": {
  "kernelspec": {
   "display_name": "Python 3",
   "language": "python",
   "name": "python3"
  },
  "language_info": {
   "codemirror_mode": {
    "name": "ipython",
    "version": 3
   },
   "file_extension": ".py",
   "mimetype": "text/x-python",
   "name": "python",
   "nbconvert_exporter": "python",
   "pygments_lexer": "ipython3",
   "version": "3.12.6"
  }
 },
 "nbformat": 4,
 "nbformat_minor": 2
}
