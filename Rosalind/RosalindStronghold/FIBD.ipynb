{
 "cells": [
  {
   "cell_type": "code",
   "execution_count": 206,
   "metadata": {},
   "outputs": [
    {
     "name": "stdout",
     "output_type": "stream",
     "text": [
      "37699308702225934\n"
     ]
    }
   ],
   "source": [
    "aliveCount=81\n",
    "lifespan=18\n",
    "\n",
    "children=[]\n",
    "adults=[]\n",
    "gdnm=[]\n",
    "totalPairs=[]\n",
    "\n",
    "s=0\n",
    "while s<aliveCount:\n",
    "    children+={0}\n",
    "    adults+={0}\n",
    "    gdnm+={0}\n",
    "    totalPairs+={0}\n",
    "    s+=1\n",
    "\n",
    "children[0]+=1\n",
    "\n",
    "m=1\n",
    "n=0\n",
    "while m<aliveCount:\n",
    "    adults[m]-=gdnm[m-1]\n",
    "    children[m]+=adults[m-1]\n",
    "    adults[m]+=children[m-1]+adults[m-1]\n",
    "    if m>lifespan-2:\n",
    "        gdnm[m]=children[n]\n",
    "        n+=1\n",
    "    m+=1\n",
    "print(adults[-1]+children[-1])"
   ]
  },
  {
   "cell_type": "code",
   "execution_count": null,
   "metadata": {},
   "outputs": [],
   "source": []
  }
 ],
 "metadata": {
  "kernelspec": {
   "display_name": "Python 3",
   "language": "python",
   "name": "python3"
  },
  "language_info": {
   "codemirror_mode": {
    "name": "ipython",
    "version": 3
   },
   "file_extension": ".py",
   "mimetype": "text/x-python",
   "name": "python",
   "nbconvert_exporter": "python",
   "pygments_lexer": "ipython3",
   "version": "3.12.6"
  }
 },
 "nbformat": 4,
 "nbformat_minor": 2
}
