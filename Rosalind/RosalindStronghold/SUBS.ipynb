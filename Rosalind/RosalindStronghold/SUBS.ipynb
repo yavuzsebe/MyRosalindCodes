{
 "cells": [
  {
   "cell_type": "code",
   "execution_count": 7,
   "metadata": {},
   "outputs": [],
   "source": [
    "sampleDataset=open(\"/Users/yavuzsebe/Downloads/rosalind_subs.txt\",\"r\")\n",
    "datasetList=list(sampleDataset.readlines())"
   ]
  },
  {
   "cell_type": "code",
   "execution_count": 66,
   "metadata": {},
   "outputs": [
    {
     "name": "stdout",
     "output_type": "stream",
     "text": [
      " 127 159 174 206 237 307 334 344 553 628 681 688 695 724\n"
     ]
    }
   ],
   "source": [
    "sampleDataset=open(\"/Users/yavuzsebe/Downloads/rosalind_subs.txt\",\"r\")\n",
    "datasetList=list(sampleDataset.readlines())\n",
    "dnaSequence=datasetList[0][0:-1]\n",
    "motifSequence=datasetList[1][0:-1]\n",
    "mL=len(motifSequence)\n",
    "dL=len(dnaSequence)\n",
    "subCons=dL-mL\n",
    "i=0\n",
    "ansList=[]\n",
    "ansStr=\"\"\n",
    "while i<subCons:\n",
    "    if dnaSequence[i:i+mL]==motifSequence:\n",
    "        ansStr=ansStr+\" \"+str(i+1)\n",
    "    else:\n",
    "        pass\n",
    "    i+=1\n",
    "print(ansStr)"
   ]
  },
  {
   "cell_type": "code",
   "execution_count": 56,
   "metadata": {},
   "outputs": [
    {
     "name": "stdout",
     "output_type": "stream",
     "text": [
      "AACCATGAATCATCCCCATCATCCGGTGTTACGAACATCATCCAATGGCGATCATCCAACGATCATCCCCCTGACCCAATCATCCCGTTGACTAGATCATCCAGTATCATCCAATCATCCTTCTAAATCATCCATCATCCAATCATCCCAATCATCCGATCATCCATCATCCCATCATCCATCATCCTAATCATCCCATCATCCTATCATCCATCATCCTGTCTATCATCCCAACCATCATCCATCATCCGCATCATCCACATCATCCGTGGCGAGCGATCATCCCGGATCATCCGGTCAGGGTGAATCATCCATCATCCGGTATCATCCACTATCATCCATGATCATCCATCATCCGTTGTATCATCCACGAATCATCCTATCATCCTAGATCATCCAATCATCCTAATCATCCTGGAATATCATCCCAGCTGTATCATCCGTTTATCATCCAATTATAATCATCCTATCATCCAGCTGATCATCCGCATCATCCAAAACGGATCATCCGGGTCGTATCATCCCATCATCCGAGTATCATCCAATCATCCCATCATCCATCATCCCATCATCCCCACATCATCCTTCATCATCCTATATCATCCCTAAGGACGGCGTTATCATCCGATCATCCATCATCCCCCCGGACTATCATCCCCGTATAGTGTTCAATCATCCCCATCATCCATCATCCATCATCCATCATCCGTATAACATCATCCAATCATCCATCATCCAAATCATCCGGTCATATCATCCGGCGTACGCCATCATCCGTTTCCATCATCCCATCATCCCCATCATCC\n",
      "ATCATCCAT\n",
      "AACCATGAATCATCCCCATCATCCGGTGTTACGAACATCATCCAATGGCGATCATCCAACGATCATCCCCCTGACCCAATCATCCCGTTGACTAGATCATCCAGTATCATCCAATCATCCTTCTAAATCATCCATCATCCAATCATCCCAATCATCCGATCATCCATCATCCCATCATCCATCATCCTAATCATCCCATCATCCTATCATCCATCATCCTGTCTATCATCCCAACCATCATCCATCATCCGCATCATCCACATCATCCGTGGCGAGCGATCATCCCGGATCATCCGGTCAGGGTGAATCATCCATCATCCGGTATCATCCACTATCATCCATGATCATCCATCATCCGTTGTATCATCCACGAATCATCCTATCATCCTAGATCATCCAATCATCCTAATCATCCTGGAATATCATCCCAGCTGTATCATCCGTTTATCATCCAATTATAATCATCCTATCATCCAGCTGATCATCCGCATCATCCAAAACGGATCATCCGGGTCGTATCATCCCATCATCCGAGTATCATCCAATCATCCCATCATCCATCATCCCATCATCCCCACATCATCCTTCATCATCCTATATCATCCCTAAGGACGGCGTTATCATCCGATCATCCATCATCCCCCCGGACTATCATCCCCGTATAGTGTTCAATCATCCCCATCATCCATCATCCATCATCCATCATCCGTATAACATCATCCAATCATCCATCATCCAAATCATCCGGTCATATCATCCGGCGTACGCCATCATCCGTTTCCATCATCCCATCATCCCCATCATCC\n",
      "ATCATCCAT\n",
      "9\n",
      "806\n",
      "797\n",
      "797\n",
      "797\n"
     ]
    }
   ],
   "source": [
    "print(datasetList[0][0:-1])\n",
    "print(datasetList[1][0:-1])\n",
    "print(dnaSequence)\n",
    "print(motifSequence)\n",
    "mL=len(motifSequence)\n",
    "dL=len(dnaSequence)\n",
    "subCons=dL-mL\n",
    "print(mL)\n",
    "print(dL)\n",
    "print(len(dnaSequence)-len(motifSequence))\n",
    "print(dL-mL)\n",
    "print(subCons)"
   ]
  },
  {
   "cell_type": "code",
   "execution_count": 65,
   "metadata": {},
   "outputs": [
    {
     "name": "stdout",
     "output_type": "stream",
     "text": [
      " 2 4 10\n"
     ]
    }
   ],
   "source": [
    "\n",
    "dnaSequence=\"GATATATGCATATACTT\"\n",
    "motifSequence=\"ATAT\"\n",
    "mL=len(motifSequence)\n",
    "dL=len(dnaSequence)\n",
    "subCons=dL-mL\n",
    "i=0\n",
    "ansList=[]\n",
    "ansStr=\"\"\n",
    "while i<dL:\n",
    "    if dnaSequence[i:i+mL]==motifSequence:\n",
    "        ansStr=ansStr+\" \"+str(i+1)\n",
    "    else:\n",
    "        pass\n",
    "    i+=1\n",
    "print(ansStr)"
   ]
  },
  {
   "cell_type": "code",
   "execution_count": null,
   "metadata": {},
   "outputs": [],
   "source": []
  }
 ],
 "metadata": {
  "kernelspec": {
   "display_name": "Python 3",
   "language": "python",
   "name": "python3"
  },
  "language_info": {
   "codemirror_mode": {
    "name": "ipython",
    "version": 3
   },
   "file_extension": ".py",
   "mimetype": "text/x-python",
   "name": "python",
   "nbconvert_exporter": "python",
   "pygments_lexer": "ipython3",
   "version": "3.12.6"
  }
 },
 "nbformat": 4,
 "nbformat_minor": 2
}
