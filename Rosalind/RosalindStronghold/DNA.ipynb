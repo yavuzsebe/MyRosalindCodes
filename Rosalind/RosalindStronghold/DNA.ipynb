{
 "cells": [
  {
   "cell_type": "markdown",
   "metadata": {},
   "source": [
    "#Problem\n",
    "\n",
    "A string is simply an ordered collection of symbols selected from some alphabet and formed into a word; the length of a string is the number of symbols that it contains.\n",
    "\n",
    "An example of a length 21 DNA string (whose alphabet contains the symbols 'A', 'C', 'G', and 'T') is \"ATGCTTCAGAAAGGTCTTACG.\"\n",
    "\n",
    "##Given: A DNA string s of length at most 1000 nt.\n",
    "\n",
    "##Return: Four integers (separated by spaces) counting the respective number of times that the symbols 'A', 'C', 'G', and 'T' occur in s.\n",
    "\n",
    "###Sample Dataset\n",
    "\n",
    "    AGCTTTTCATTCTGACTGCAACGGGCAATATGTCTCTGTGTGGATTAAAAAAAGAGTGTCTGATAGCAGC\n",
    "###Sample Output\n",
    "\n",
    "    20 12 17 21"
   ]
  },
  {
   "cell_type": "markdown",
   "metadata": {},
   "source": [
    "strvar"
   ]
  },
  {
   "cell_type": "code",
   "execution_count": 6,
   "metadata": {},
   "outputs": [],
   "source": [
    "strvar=\"AGCTTTTCATTCTGACTGCAACGGGCAATATGTCTCTGTGTGGATTAAAAAAAGAGTGTCTGATAGCAGC\""
   ]
  },
  {
   "cell_type": "code",
   "execution_count": 11,
   "metadata": {},
   "outputs": [
    {
     "data": {
      "text/plain": [
       "'C'"
      ]
     },
     "execution_count": 11,
     "metadata": {},
     "output_type": "execute_result"
    }
   ],
   "source": [
    "strvar[69]"
   ]
  },
  {
   "cell_type": "code",
   "execution_count": 9,
   "metadata": {},
   "outputs": [
    {
     "data": {
      "text/plain": [
       "70"
      ]
     },
     "execution_count": 9,
     "metadata": {},
     "output_type": "execute_result"
    }
   ],
   "source": [
    "len(strvar)"
   ]
  },
  {
   "cell_type": "code",
   "execution_count": 33,
   "metadata": {},
   "outputs": [
    {
     "name": "stdout",
     "output_type": "stream",
     "text": [
      "TGCTTTAATTTTACCTTGGATAGTGTAAAGTTTCGAGTGTAACAAACTCAGCGATCAAGACCGGCCAGTAAGAACTTAGATGTTCTCACACAGGTAGAACCAATATGAGGCGCGTGAACGCATTATGATACTAACGAACGAAAAAATGGTTACCCACGGAAACTTTATCCGCCGTTGATCGAAAGAGATTTTGTACAATATGATCTCTCGCTTCGCTTCAATTTGGGTTGAGTTATAACCAATATTCATTTTAGAATCGACCGACCTTTCCTGAACACTGGACCACATGTTGTCATGAAATTATCTCCACTTTCGCACTATCACTTACTGACGGGGTTAGGCACAAACCGCGTTAGGAGTCCTGCATGGTGACACTCGACTCTCCCTTCGACTTCGCTCTCCACCCATGGGGGATGGGATGGACGAAGTATATGCTACCGCTCAGGGATACAGGGACCCGAGCACTATAAGGAGTACTCGGTTCCACACTCGATGGAATGCCTGAGTAGGCGAAAATCCATTGCCGATACGAAGTAAGGCGGGCTTTATAGACCAAACCGAGGACGTCAGAAGTCCGGGGCCTACACATTTGTCTACAGGCGGGTGTATAGAACACCGCAGCCCGGTGGCACGGGACGCGCTCGTCCATAGGTACCCCTGTCATGAAGTACCGTGAGTACGATAGTGTTATCGCCGCGCTCCCTACCGTCTGTTACCCATAGCCTGTGCATCGAACTAATCGAACATATATGTGCTAGCTCCATTCGTAAGTGGAACTACCCTTCGTTAGACGTTCCGGCGCACGAACCTACTAACTGGATCCTACCGTTAGATTGAGTA\n",
      "{'T': 210, 'G': 196, 'C': 210, 'A': 224}\n",
      "224 210 196 210\n"
     ]
    }
   ],
   "source": [
    "strvar=input(\"Input DNA string: \")\n",
    "strlist=[]\n",
    "i=0\n",
    "print(strvar)\n",
    "while i<len(strvar):\n",
    "    strlist.append(strvar[i])\n",
    "    i+=1\n",
    "\n",
    "dict1={}\n",
    "for word in strlist:\n",
    "    if word in dict1:\n",
    "        dict1[word]+=1\n",
    "    else:\n",
    "        dict1[word]=1\n",
    "print(dict1)\n",
    "print(dict1[\"A\"], dict1[\"C\"], dict1[\"G\"], dict1[\"T\"])"
   ]
  },
  {
   "cell_type": "code",
   "execution_count": 30,
   "metadata": {},
   "outputs": [
    {
     "name": "stdout",
     "output_type": "stream",
     "text": [
      "{'T': 210, 'G': 196, 'C': 210, 'A': 224}\n"
     ]
    }
   ],
   "source": [
    "print(dict1)"
   ]
  },
  {
   "cell_type": "code",
   "execution_count": 31,
   "metadata": {},
   "outputs": [
    {
     "name": "stdout",
     "output_type": "stream",
     "text": [
      "TGCTTTAATTTTACCTTGGATAGTGTAAAGTTTCGAGTGTAACAAACTCAGCGATCAAGACCGGCCAGTAAGAACTTAGATGTTCTCACACAGGTAGAACCAATATGAGGCGCGTGAACGCATTATGATACTAACGAACGAAAAAATGGTTACCCACGGAAACTTTATCCGCCGTTGATCGAAAGAGATTTTGTACAATATGATCTCTCGCTTCGCTTCAATTTGGGTTGAGTTATAACCAATATTCATTTTAGAATCGACCGACCTTTCCTGAACACTGGACCACATGTTGTCATGAAATTATCTCCACTTTCGCACTATCACTTACTGACGGGGTTAGGCACAAACCGCGTTAGGAGTCCTGCATGGTGACACTCGACTCTCCCTTCGACTTCGCTCTCCACCCATGGGGGATGGGATGGACGAAGTATATGCTACCGCTCAGGGATACAGGGACCCGAGCACTATAAGGAGTACTCGGTTCCACACTCGATGGAATGCCTGAGTAGGCGAAAATCCATTGCCGATACGAAGTAAGGCGGGCTTTATAGACCAAACCGAGGACGTCAGAAGTCCGGGGCCTACACATTTGTCTACAGGCGGGTGTATAGAACACCGCAGCCCGGTGGCACGGGACGCGCTCGTCCATAGGTACCCCTGTCATGAAGTACCGTGAGTACGATAGTGTTATCGCCGCGCTCCCTACCGTCTGTTACCCATAGCCTGTGCATCGAACTAATCGAACATATATGTGCTAGCTCCATTCGTAAGTGGAACTACCCTTCGTTAGACGTTCCGGCGCACGAACCTACTAACTGGATCCTACCGTTAGATTGAGTA\n"
     ]
    }
   ],
   "source": [
    "print(strvar)"
   ]
  },
  {
   "cell_type": "code",
   "execution_count": null,
   "metadata": {},
   "outputs": [],
   "source": []
  }
 ],
 "metadata": {
  "kernelspec": {
   "display_name": "Python 3",
   "language": "python",
   "name": "python3"
  },
  "language_info": {
   "codemirror_mode": {
    "name": "ipython",
    "version": 3
   },
   "file_extension": ".py",
   "mimetype": "text/x-python",
   "name": "python",
   "nbconvert_exporter": "python",
   "pygments_lexer": "ipython3",
   "version": "3.12.6"
  }
 },
 "nbformat": 4,
 "nbformat_minor": 2
}
