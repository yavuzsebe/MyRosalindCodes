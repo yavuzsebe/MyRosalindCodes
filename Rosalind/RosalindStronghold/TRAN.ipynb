{
 "cells": [
  {
   "cell_type": "code",
   "execution_count": 58,
   "metadata": {},
   "outputs": [
    {
     "name": "stdout",
     "output_type": "stream",
     "text": [
      "2.6710526315789473\n"
     ]
    }
   ],
   "source": [
    "with open('/Users/yavuzsebe/Downloads/rosalind_tran.txt', 'r') as inputfasta:\n",
    "    fasta_dictionary = {}\n",
    "    fasta_header = \"\"\n",
    "    for line in inputfasta:\n",
    "        line = line.strip()\n",
    "        if not line:\n",
    "            continue\n",
    "        if line.startswith(\">\"):\n",
    "            fasta_header = line[1:]\n",
    "            if fasta_header not in fasta_dictionary:\n",
    "                fasta_dictionary[fasta_header] = []\n",
    "            continue\n",
    "        sequence = line\n",
    "        fasta_dictionary[fasta_header].append(sequence)\n",
    "fastaFile={}\n",
    "i=0\n",
    "while i<len(list(fasta_dictionary.keys())):\n",
    "    j=0\n",
    "    emptyStr=\"\"\n",
    "    while j<len(fasta_dictionary[list(fasta_dictionary.keys())[i]]):\n",
    "        a=[]\n",
    "        a=list(list(fasta_dictionary[list(fasta_dictionary.keys())[i]]))[j]\n",
    "        emptyStr=emptyStr+a\n",
    "        j+=1\n",
    "    fastaFile[list(fasta_dictionary.keys())[i]]=[]\n",
    "    fastaFile[list(fasta_dictionary.keys())[i]].append(emptyStr)\n",
    "    i+=1\n",
    "fastaFile\n",
    "ts = [('A','G'),('T','C'),('C','T'),('G','A')]\n",
    "tv = [('A','T'),('A','C'),('T','A'),('T','G'),('C','A'),('C','G'),('G','T'),('G','C')]\n",
    "seqOne=str(fastaFile[list(fastaFile.keys())[0]])[2:-2]\n",
    "seqTwo=str(fastaFile[list(fastaFile.keys())[1]])[2:-2]\n",
    "i=0\n",
    "tsVal=0\n",
    "tvVal=0\n",
    "while i<len(seqOne):\n",
    "    valCpl=\"\"\n",
    "    valCpl=(seqOne[i],seqTwo[i])\n",
    "    if valCpl in ts:\n",
    "        tsVal+=1\n",
    "    elif valCpl in tv:\n",
    "        tvVal+=1\n",
    "    i+=1 \n",
    "print(tsVal/tvVal)\n"
   ]
  },
  {
   "cell_type": "code",
   "execution_count": 21,
   "metadata": {},
   "outputs": [
    {
     "name": "stdout",
     "output_type": "stream",
     "text": [
      "GGATACAACACCTTGCCAATTGCGGTAGCGGACGAATATTTACGACAGAAAATTGGCACCTTCGAGGAGAAGCTTCTGACTTTCTGAAAGTGGGGCTGTGGTACGTCTACCGGCGATTATTCGTTACAAAAAACAGTCACTCACTTTCAATACGCGACACCACTCGTAGAACTCCGGCGAGCTGAAGACTAAACATGCATAGTCGGCTCTGACCAACTGTATGTTCCTGAAAGATCGCCTGTCGGTTCACCAGCCCCATTGGATGCTCGTAAACGCTCCCGATGTCAAATCGATACGCAATAACTAAAGTCGATTCCCGACAGATCTAGGCCGTGAATCGGAGCCAGCCGCTCACTGCTGGTCGCAGCTCGTACTGAACGCACTCTGGTGGGAAAAACGACTGAAGCATTCGACGGAGCCAGCATGTACTCTGGCCGCGCTCGGCTACACAGACCTATAGACAAGAATCAGGATCATAGCGTAAACCCCATCTACAGAGCTAAATTGCCATCTGGATACGACCGAGCCCTCTCCTCGCCGATCCGAGCTCCCCTTTGCTCATTACGCCCTTTAAACCGGCGCCCCGGGATCAAGGCTGATCACGGCAGGAGTTTGTGGGTGATATGCGCACAACCTGATATAGGTTAACGTGTAGCAATCCCGTTTTCCCCAACTTGATGGCTGACAGTACGTCACAAACAAGCACCACTCTACGATCTGTATGACCTTTCTTGGCAACACGCGGATATCGTACGCGTCGGCTCTTGTTTACGAATCTCTGTCTTACAGTAGGGGTACTCGCTAGTCCTCATTGGCGTTAGAAGCTGATCTCACAATTAGTAACAAGCGACTTGGGCCGTAGCAA\n",
      "GGACACGAAACCTTACCACTTGCGATGGCGGACGAACATTTACGGCGGAACAATCGTGCTTTCAAGAAAAAGCTTCCGGCTTTCTGGGACAGTTACTACGGTACGATTGCGGGCGGTTGCTCACTGTAGGAGACCGTCATCCAATTCGAATACACTAGACCCTTCGTAGAACTCCAGCGAACTAAAGGCTAGCTATGCAAAGTCGGCTTTGACCAATTATACCCTGTCAAAGGATCGCTTGCCGGTTCACCTGTCTCATCGAGCGTTCGTAAATATTCCCGATAGTAGGTCCGTACGCAAGAACCCCAGTCTATTTTCGGCAGATTGAGACTGTGGATCGGAGTCGGTCGCCCGTTCCTGGTTGCAGCTCGTAGCGAACGCTCACCGGTGAGAAAAATAACTATGGCTCATAGCGGAGTCAGCATGTACCTTGGCCGCAGCCGCTCGCGCCAACCTATCGATGGGTATCAGGCCTGTAGCGTAAGCCCCGTTCACAGAGCTAAACTGTTATAAAGACTCGACCGAGGCCTCTCCTCAGCATTTCGAACTTCCCCCTGCCCACTGCATCCCTTAAACCGGCGTTTTACGGTCTTCGCTGATCGTGGTAAGAGTTTGAAAATAATATACACACAACTCCGTGTATGTTAACATGTAACAAGTCCGTTTTCCCCCACTTGATGGCCAACGGTGCTTCACACATAAGCACGACTCTTCGATCTGTATAATCTTTTTTCACAACACGCGAATGTTGTACGTACCGGCCCTGTCCCAATCATCTCCGGTTTACAGCGGGGGTAATTCTCGATTTTCATCGGTTCCGAGAGCTGATATCATACATAGCAACAGGTGGTACGGGTAGTAGCGA\n"
     ]
    }
   ],
   "source": [
    "print(seqOne)\n",
    "print(seqTwo)"
   ]
  },
  {
   "cell_type": "code",
   "execution_count": 57,
   "metadata": {},
   "outputs": [
    {
     "name": "stdout",
     "output_type": "stream",
     "text": [
      "2.6710526315789473\n"
     ]
    }
   ],
   "source": [
    "i=0\n",
    "tsVal=0\n",
    "tvVal=0\n",
    "while i<len(seqOne):\n",
    "    valCpl=\"\"\n",
    "    valCpl=(seqOne[i],seqTwo[i])\n",
    "    if valCpl in ts:\n",
    "        tsVal+=1\n",
    "    elif valCpl in tv:\n",
    "        tvVal+=1\n",
    "    i+=1 \n",
    "print(tsVal/tvVal)"
   ]
  }
 ],
 "metadata": {
  "kernelspec": {
   "display_name": "Python 3",
   "language": "python",
   "name": "python3"
  },
  "language_info": {
   "codemirror_mode": {
    "name": "ipython",
    "version": 3
   },
   "file_extension": ".py",
   "mimetype": "text/x-python",
   "name": "python",
   "nbconvert_exporter": "python",
   "pygments_lexer": "ipython3",
   "version": "3.12.6"
  }
 },
 "nbformat": 4,
 "nbformat_minor": 2
}
