{
 "cells": [
  {
   "cell_type": "code",
   "execution_count": 50,
   "metadata": {},
   "outputs": [
    {
     "name": "stdout",
     "output_type": "stream",
     "text": [
      "-5.737391900032104 -5.217087091662659 -5.2631939799163145 -5.360461380911991 -5.958129180949463 -6.628340009359368 -7.009226271710823 \n"
     ]
    }
   ],
   "source": [
    "with open('/Users/yavuzsebe/Downloads/rosalind_prob.txt', 'r') as inputFile:\n",
    "    inputLines=[]\n",
    "    for line in inputFile:\n",
    "        line = line.strip()\n",
    "        inputLines.append(line)\n",
    "    sequence=inputLines[0]\n",
    "    arrayA=[]\n",
    "    for k in inputLines[1].split():\n",
    "        arrayA.append(k)\n",
    "import math\n",
    "arrayB=[]\n",
    "for i in arrayA:\n",
    "    i=float(i)\n",
    "    probGorC=i/2\n",
    "    probAorT=(1-i)/2\n",
    "    prob=1\n",
    "    for j in sequence:\n",
    "        if j==\"A\" or j==\"T\":\n",
    "            prob*=probAorT\n",
    "        elif j==\"G\" or j==\"C\":\n",
    "            prob*=probGorC\n",
    "    arrayB.append(math.log(prob,10))\n",
    "answerStr=\"\"\n",
    "for i in arrayB:\n",
    "    answerStr+=str(i)+\" \"\n",
    "print(answerStr)"
   ]
  },
  {
   "cell_type": "code",
   "execution_count": null,
   "metadata": {},
   "outputs": [],
   "source": []
  }
 ],
 "metadata": {
  "kernelspec": {
   "display_name": "Python 3",
   "language": "python",
   "name": "python3"
  },
  "language_info": {
   "codemirror_mode": {
    "name": "ipython",
    "version": 3
   },
   "file_extension": ".py",
   "mimetype": "text/x-python",
   "name": "python",
   "nbconvert_exporter": "python",
   "pygments_lexer": "ipython3",
   "version": "3.12.6"
  }
 },
 "nbformat": 4,
 "nbformat_minor": 2
}
