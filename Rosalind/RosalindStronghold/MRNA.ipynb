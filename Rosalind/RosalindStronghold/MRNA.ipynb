{
 "cells": [
  {
   "cell_type": "code",
   "execution_count": 1,
   "metadata": {},
   "outputs": [],
   "source": [
    "\n",
    "codonTable={\n",
    "    \"M\":[\"AUG\"],\n",
    "    \"Stop\":[\"UAA\",\"UAG\",\"UGA\"],\n",
    "    \"F\":[\"UUU\",\"UUC\"],\n",
    "    \"L\":[\"UUA\",\"UUG\",\"CUU\",\"CUC\",\"CUA\",\"CUG\"],\n",
    "    \"S\":[\"UCU\",\"UCC\",\"UCA\",\"UCG\",\"AGU\",\"AGC\"],\n",
    "    \"Y\":[\"UAU\",\"UAC\"],\n",
    "    \"C\":[\"UGU\",\"UGC\"],\n",
    "    \"W\":[\"UGG\"],\n",
    "    \"P\":[\"CCU\",\"CCC\",\"CCA\",\"CCG\"],\n",
    "    \"H\":[\"CAU\",\"CAC\"],\n",
    "    \"Q\":[\"CAA\",\"CAG\"],\n",
    "    \"R\":[\"CGU\",\"CGC\",\"CGA\",\"CGG\",\"AGA\",\"AGG\"],\n",
    "    \"I\":[\"AUU\",\"AUC\",\"AUA\"],\n",
    "    \"T\":[\"ACU\",\"ACC\",\"ACA\",\"ACG\"],\n",
    "    \"N\":[\"AAU\",\"AAC\"],\n",
    "    \"K\":[\"AAA\",\"AAG\"],\n",
    "    \"V\":[\"GUU\",\"GUC\",\"GUA\",\"GUG\"],\n",
    "    \"A\":[\"GCU\",\"GCA\",\"GCC\",\"GCG\"],\n",
    "    \"D\":[\"GAU\",\"GAC\"],\n",
    "    \"E\":[\"GAA\",\"GAG\"],\n",
    "    \"G\":[\"GGU\",\"GGC\",\"GGA\",\"GGG\"],\n",
    "}"
   ]
  },
  {
   "cell_type": "code",
   "execution_count": 25,
   "metadata": {},
   "outputs": [
    {
     "name": "stdout",
     "output_type": "stream",
     "text": [
      "754307816724383192116990561055854430302888251812498749335203731173416179789642644820034614927632004452809888626158164731004952113898138594368109414307210669340604470420118135948210360706490004032849654040562492109271372986636158934697632315792947721067330944951502957453911117786001514901885636932757643869937725935636209393359610357111147508303727063306849081034691162409425514150122542172537550544186128134361006997504\n"
     ]
    }
   ],
   "source": [
    "with open(\"/Users/yavuzsebe/Downloads/rosalind_MRNA.txt\",\"r\") as protSeq:\n",
    "    protSeq=protSeq.readlines()\n",
    "    protSeq=protSeq[0]\n",
    "i=0\n",
    "j=3\n",
    "while i<len(protSeq):\n",
    "    if protSeq[i] in codonTable.keys():\n",
    "        j=j*len(codonTable[protSeq[i]])\n",
    "    i+=1\n",
    "print(j)\n",
    "    "
   ]
  },
  {
   "cell_type": "code",
   "execution_count": 20,
   "metadata": {},
   "outputs": [
    {
     "name": "stdout",
     "output_type": "stream",
     "text": [
      "998\n",
      "N\n"
     ]
    }
   ],
   "source": [
    "print(len(protSeq))\n",
    "print(protSeq[1])"
   ]
  },
  {
   "cell_type": "code",
   "execution_count": 23,
   "metadata": {},
   "outputs": [
    {
     "data": {
      "text/plain": [
       "2"
      ]
     },
     "execution_count": 23,
     "metadata": {},
     "output_type": "execute_result"
    }
   ],
   "source": [
    "len(codonTable[protSeq[1]])"
   ]
  },
  {
   "cell_type": "code",
   "execution_count": 26,
   "metadata": {},
   "outputs": [
    {
     "name": "stdout",
     "output_type": "stream",
     "text": [
      "12\n"
     ]
    }
   ],
   "source": [
    "protSeq=\"MA\"\n",
    "i=0\n",
    "j=3\n",
    "while i<len(protSeq):\n",
    "    if protSeq[i] in codonTable.keys():\n",
    "        j=j*len(codonTable[protSeq[i]])\n",
    "    i+=1\n",
    "print(j)\n",
    "    "
   ]
  },
  {
   "cell_type": "code",
   "execution_count": null,
   "metadata": {},
   "outputs": [],
   "source": []
  }
 ],
 "metadata": {
  "kernelspec": {
   "display_name": "Python 3",
   "language": "python",
   "name": "python3"
  },
  "language_info": {
   "codemirror_mode": {
    "name": "ipython",
    "version": 3
   },
   "file_extension": ".py",
   "mimetype": "text/x-python",
   "name": "python",
   "nbconvert_exporter": "python",
   "pygments_lexer": "ipython3",
   "version": "3.12.6"
  }
 },
 "nbformat": 4,
 "nbformat_minor": 2
}
