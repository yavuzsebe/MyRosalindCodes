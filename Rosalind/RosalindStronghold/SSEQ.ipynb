{
 "cells": [
  {
   "cell_type": "code",
   "execution_count": 7,
   "metadata": {},
   "outputs": [
    {
     "name": "stdout",
     "output_type": "stream",
     "text": [
      "3 4 6 7 9 11 17 19 22 28 30 34 39 43 \n"
     ]
    }
   ],
   "source": [
    "s = \"ATCCTGTTAGAAATCAGGCGGTTCCTCAACTGGCCCTCGTCGAAGACGACTAGATCGCCTTTTTGTACCCATGTCAGCTGTGTTTGCACGATCGAACTGCAACGCGCGCGATATGACTCAGACTGTTATTTCATGTTGTCGGAGACGTGGACGATCAGATCATGGAACCACGCCAGCTGTTACCGGTTAATTGCACCGTCGAATTGCTGAGTGATCTAGCAGCACGAGGGAAGTGACCCAGTCGTAATAGCCGGACCGGAGGGCAACCCGGCGGAGAGGACTATGTTAAGCGTTGCTGAAACGCCTCGTTCGGCAAGACTCTCGGGGCCCCTCGTCTCCAAGGTTGGACCTACTTTGTAATTATAGAGACATGTGGCGAAGCCGCGCCTTTCCAAATGTAGATGCATCCCGAACATTGTCGCGGCTTTCCGTGATATTATGTTGGACAATGCCTGATTGAGCGTGTTCGCTGACGTACTCGCGGTTCAGTTCGTATGTCGGGCAACCAGTAGTCGATAAACATCTATAATCCTTCAGACACATACTCCGCAGCCATATTAGTTTGGCTAACCAGGGAGACAAAAAGACGCAGTAGAGAAAATTTGACAAACCGTTTTCTGACGTGTCGCCCCGGGTCAGAAACTAGTTTGCGTCTAGGGTGACGGTTTAAGAGTTCGCATGGTCACGAGATTGACGGTGCGCACTTCGTCTGCCTGTAAATCCGATACGGGAAGTCGAGATACAACGCATCTAGTTTTCTCTACGTCCGACCGATGAGGACGAATTTAAGGGGCTCGACTCTGCCCTGCATCGGTAACCAGCCGCAAGTATCACCCACCGGATCAACTCTCGACGTGATTCGGATTCTCTTGCGCAAAGATTCCTTCTTACGTCGTAATAATTTTGTCGTGTTTCGCGGGGATCAACCCGCAAGGAACGTCCCTAGGGAA\"  # Longer string\n",
    "t = \"CCGTAAGCTACCGA\"\n",
    "indices=[]\n",
    "startIndex=0\n",
    "for i in t:\n",
    "    position=s.find(i, startIndex)\n",
    "    indices.append(position+1)\n",
    "    startIndex=position+1\n",
    "answerStr=\"\"\n",
    "for i in indices:\n",
    "    answerStr+=str(i)+\" \"\n",
    "print(answerStr)"
   ]
  },
  {
   "cell_type": "code",
   "execution_count": null,
   "metadata": {},
   "outputs": [],
   "source": []
  }
 ],
 "metadata": {
  "kernelspec": {
   "display_name": "Python 3",
   "language": "python",
   "name": "python3"
  },
  "language_info": {
   "codemirror_mode": {
    "name": "ipython",
    "version": 3
   },
   "file_extension": ".py",
   "mimetype": "text/x-python",
   "name": "python",
   "nbconvert_exporter": "python",
   "pygments_lexer": "ipython3",
   "version": "3.12.6"
  }
 },
 "nbformat": 4,
 "nbformat_minor": 2
}
