{
 "cells": [
  {
   "cell_type": "code",
   "execution_count": 12,
   "metadata": {},
   "outputs": [],
   "source": [
    "mimTable={\n",
    "    \"A\":   71.03711,\n",
    "    \"C\":   103.00919,\n",
    "    \"D\":   115.02694,\n",
    "    \"E\":   129.04259,\n",
    "    \"F\":   147.06841,\n",
    "    \"G\":   57.02146,\n",
    "    \"H\":   137.05891,\n",
    "    \"I\":   113.08406,\n",
    "    \"K\":   128.09496,\n",
    "    \"L\":   113.08406,\n",
    "    \"M\":   131.04049,\n",
    "    \"N\":   114.04293,\n",
    "    \"P\":   97.05276,\n",
    "    \"Q\":   128.05858,\n",
    "    \"R\":   156.10111,\n",
    "    \"S\":   87.03203,\n",
    "    \"T\":   101.04768,\n",
    "    \"V\":   99.06841,\n",
    "    \"W\":   186.07931,\n",
    "    \"Y\":   163.06333\n",
    "}"
   ]
  },
  {
   "cell_type": "code",
   "execution_count": 13,
   "metadata": {},
   "outputs": [
    {
     "data": {
      "text/plain": [
       "199.09569"
      ]
     },
     "execution_count": 13,
     "metadata": {},
     "output_type": "execute_result"
    }
   ],
   "source": [
    "mimTable[\"A\"]+mimTable[\"Q\"]\n"
   ]
  },
  {
   "cell_type": "code",
   "execution_count": 38,
   "metadata": {},
   "outputs": [],
   "source": [
    "with open('/Users/yavuzsebe/Downloads/rosalind_prtm.txt', 'r') as protSeqFile:\n",
    "    protSeqStrRaw=str(protSeqFile.readlines())\n",
    "    protSeqStr=protSeqStrRaw[2:-4]\n",
    "i=0\n",
    "mass=0\n",
    "while i<len(protSeqStr):\n",
    "    if protSeqStr[i] in mimTable.keys():\n",
    "        mass+=mimTable[protSeqStr[i]]\n",
    "    else:\n",
    "        break\n",
    "    i+=1\n",
    "print(mass)"
   ]
  },
  {
   "cell_type": "code",
   "execution_count": 39,
   "metadata": {},
   "outputs": [
    {
     "name": "stdout",
     "output_type": "stream",
     "text": [
      "112824.14864000065\n"
     ]
    }
   ],
   "source": [
    "while i<len(protSeqStr):\n",
    "    if protSeqStr[i] in mimTable.keys():\n",
    "        mass+=mimTable[protSeqStr[i]]\n",
    "    else:\n",
    "        break\n",
    "    i+=1\n",
    "print(mass)"
   ]
  },
  {
   "cell_type": "code",
   "execution_count": 35,
   "metadata": {},
   "outputs": [
    {
     "name": "stdout",
     "output_type": "stream",
     "text": [
      "137.05891\n"
     ]
    }
   ],
   "source": [
    "if protSeqStr[0] in mimTable.keys():\n",
    "    print(mimTable[protSeqStr[0]])"
   ]
  },
  {
   "cell_type": "code",
   "execution_count": 36,
   "metadata": {},
   "outputs": [
    {
     "data": {
      "text/plain": [
       "'HHGGSNTNTPRGWDPTWQSSTLIQCGRENQFCIVDIEAWNVGKIETTYMAWCVRTQELPFAWFLIDANWLWLFVMHEIEYDQPKTIFKTWMLYASIRYHAQCMEMGCGVRMKNHHLVDTACCPMCWTPDACAFKTTSSMVFPNVKTGRRNLNESHSWTCNMHQFHPNSHHFIDMRRRPRVHQRYVWACFVAGAPHAVWYACDAFPQIQYSIKMFSGTYCTDQIQDDKTTAPIKMIRWASGDMQKECPTSIIMDPWGMHILTDKFYNFTQLPDWINDLHGHNASAFNGDFFCWVVWYPEWNVKHETTYFDPLQAPANGPYNVWYWDTQVIVDINGAFGWAECFVDNPNMFDGWDGVTDQSEEVMSAEQYWTASDSQTGGVIHGPLIYQVSLDCWCQPFTIYRYDLMTYMQRYYSKTRPDHGMLNHQGCMIQKTAIITFYDKKDPVKCSWRMSKSSRTVMIMWYWPPTHHDQVKKKWGNNWHPAMSSWMNCSWLPWSQYTIDKLNLFLYWLMFAIFHNELTMVICDKVPHTIQAPIGFWGTNHYDHGGKSKVIHVCVTKEKVIQTYVLMEETYIVQKNEIFPEQVQGSEPTWSARIFQRYFYNLAALETVDNALARMTDCGDDQYRIISVQKDDTQKPFLTYFKDITTSRTGPFPEVPPDCVSEMYSHDNICRCQKPKWDIYRWAQLRSCRIREDHCWHAHHPELMVSNVQLVKNCQVMQAVKARQRIQKGYVWVGDFQVWMYAIQEQTCCPEYHNNCMLYNRHLGPVRNTQYGNEFLTHKKCHSFKHVAIMKKCMVKFVAMSSGEKYTYHWIHSIYVGTCMCTCWSSHQTIIRFPITPMEDTAHSRHPVNLEQPCVTQVMFEHYPRRNYFPGNFWDQDWTIWQPWEGGMPAFHFDNRDPIGYQRGCKIFRCEWTQAKMQKQDWWHKQKEKFMDVICSGGCAVTCHVGWYFMRKW'"
      ]
     },
     "execution_count": 36,
     "metadata": {},
     "output_type": "execute_result"
    }
   ],
   "source": [
    "protSeqStr"
   ]
  },
  {
   "cell_type": "code",
   "execution_count": null,
   "metadata": {},
   "outputs": [],
   "source": []
  }
 ],
 "metadata": {
  "kernelspec": {
   "display_name": "Python 3",
   "language": "python",
   "name": "python3"
  },
  "language_info": {
   "codemirror_mode": {
    "name": "ipython",
    "version": 3
   },
   "file_extension": ".py",
   "mimetype": "text/x-python",
   "name": "python",
   "nbconvert_exporter": "python",
   "pygments_lexer": "ipython3",
   "version": "3.12.6"
  }
 },
 "nbformat": 4,
 "nbformat_minor": 2
}
