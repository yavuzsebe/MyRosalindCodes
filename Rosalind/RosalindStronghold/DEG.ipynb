{
 "cells": [
  {
   "cell_type": "code",
   "execution_count": 64,
   "metadata": {},
   "outputs": [
    {
     "name": "stdout",
     "output_type": "stream",
     "text": [
      "[2, 4, 2, 2, 2, 2]\n"
     ]
    }
   ],
   "source": [
    "with open(\"/Users/yavuzsebe/Downloads/rosalind_deg.txt\",\"r\") as inputSet:   #sample output: 2 4 2 2 2 2\n",
    "    inputSet=inputSet.readlines()\n",
    "    i=0\n",
    "    while i<len(inputSet)-1:\n",
    "        inputSet[i]=inputSet[i][0:-1]\n",
    "        i+=1\n",
    "    i=1\n",
    "vertices=int(inputSet[0][0])\n",
    "edgeList=[]\n",
    "while i<len(inputSet):\n",
    "    edgeList.append(inputSet[i])\n",
    "    i+=1\n",
    "mentionCount=[]\n",
    "for j in edgeList:\n",
    "    for k in j:\n",
    "        if k!=\" \":\n",
    "            mentionCount+=[int(k)]\n",
    "        else:\n",
    "            pass\n",
    "degrees=[]\n",
    "i=0\n",
    "while i<vertices:\n",
    "    degrees+=[0]\n",
    "    i+=1   \n",
    "for i in mentionCount:\n",
    "    degrees[i-1]+=1\n",
    "print(degrees)\n",
    "    "
   ]
  },
  {
   "cell_type": "code",
   "execution_count": 58,
   "metadata": {},
   "outputs": [
    {
     "data": {
      "text/plain": [
       "[1, 2, 2, 3, 6, 3, 5, 6, 2, 5, 2, 4, 4, 1]"
      ]
     },
     "execution_count": 58,
     "metadata": {},
     "output_type": "execute_result"
    }
   ],
   "source": [
    "mentionCount"
   ]
  },
  {
   "cell_type": "code",
   "execution_count": 55,
   "metadata": {},
   "outputs": [],
   "source": [
    "vertices=int(inputSet[0][0])"
   ]
  },
  {
   "cell_type": "code",
   "execution_count": 61,
   "metadata": {},
   "outputs": [
    {
     "data": {
      "text/plain": [
       "[0, 0, 0, 0, 0, 0]"
      ]
     },
     "execution_count": 61,
     "metadata": {},
     "output_type": "execute_result"
    }
   ],
   "source": [
    "degrees=[]\n",
    "i=0\n",
    "while i<vertices:\n",
    "    degrees+=[0]\n",
    "    i+=1\n",
    "degrees"
   ]
  },
  {
   "cell_type": "code",
   "execution_count": 62,
   "metadata": {},
   "outputs": [
    {
     "data": {
      "text/plain": [
       "[2, 4, 2, 2, 2, 2]"
      ]
     },
     "execution_count": 62,
     "metadata": {},
     "output_type": "execute_result"
    }
   ],
   "source": [
    "for i in mentionCount:\n",
    "    degrees[i-1]+=1\n",
    "degrees"
   ]
  },
  {
   "cell_type": "code",
   "execution_count": 30,
   "metadata": {},
   "outputs": [
    {
     "name": "stdout",
     "output_type": "stream",
     "text": [
      "24 20 16 20 24 18 18 16 16 22 22 20 23 26 19 22 22 21 15 22 18 21 17 21 12 21 18 14 25 20 17 17 16 19 29 26 18 19 25 25 17 18 22 16 14 15 24 19 22 15 19 26 18 25 17 14 17 19 20 17 24 18 19 19 24 20 17 21 18 14 21 23 17 26 15 24 19 13 23 13 31 20 16 23 19 15 28 20 19 8 28 28 18 22 20 18 24 16 25 26 26 28 17 24 21 24 17 21 13 19 14 22 28 23 23 14 24 17 21 15 24 21 17 25 21 24 14 19 27 21 10 23 32 25 13 13 25 25 16 20 12 23 19 17 11 18 15 13 17 14 19 21 20 21 20 24 8 19 26 21 22 26 19 19 16 28 21 17 20 19 12 21 24 18 17 28 23 16 21 16 29 22 17 17 15 21 20 17 16 21 20 22 14 20 20 24 16 15 20 23 22 16 23 21 21 21 20 22 19 18 17 19 21 20 19 24 31 19 18 16 17 24 15 17 26 21 18 19 21 15 18 20 18 24 24 29 23 13 19 21 25 15 28 26 19 25 21 19 19 23 20 21 17 10 17 25 14 17 22 18 18 22 18 12 17 19 18 25 18 28 22 15 16 27 20 23 15 27 27 23 9 29 17 25 20 23 24 12 22 17 18 23 25 20 26 21 17 14 22 26 22 17 17 17 19 21 17 27 10 23 20 15 18 20 19 24 13 19 20 20 24 19 16 25 22 14 10 14 23 17 20 18 24 21 17 25 18 19 12 19 22 21 24 13 20 12 25 20 22 22 11 22 22 22 23 21 19 20 15 23 19 15 17 18 21 13 13 19 18 23 18 26 15 20 21 24 26 20 14 18 18 23 19 18 23 21 17 23 10 22 13 24 22 16 24 19 19 23 19 18 27 20 15 21 15 25 17 19 13 19 20 21 17 24 22 26 17 16 14 15 19 23 28 20 15 15 20 28 23 18 17 23 16 20 18 18 21 20 16 23 20 26 24 21 18 19 10 16 22 15 22 24 21 15 20 21 15 11 15 27 22 23 20 25 22 27 19 21 25 20 25 20 16 20 17 22 17 12 22 18 27 25 19 23 13 24 23 23 28 32 17 10 20 15 16 13 6 25 25 18 14 20 26 21 19 18 19 14 24 22 20 24 20 24 22 25 24 13 26 19 19 13 21 15 19 23 22 11 18 23 18 24 21 22 19 24 16 24 21 29 18 19 23 19 12 21 20 26 17 25 18 20 20 17 22 17 20 30 18 19 20 20 19 26 17 27 24 12 20 18 18 18 19 22 21 32 20 25 21 16 14 23 21 16 26 20 24 20 19 27 17 22 15 22 14 28 17 27 16 12 23 21 24 27 10 19 16 24 21 19 21 22 29 19 22 19 21 15 16 20 25 22 14 15 19 15 18 21 11 13 20 28 24 28 18 22 25 16 29 26 18 23 16 17 21 21 24 25 18 18 23 21 19 15 22 22 23 24 19 15 14 22 16 14 19 20 17 17 21 27 20 17 21 23 16 17 14 15 18 12 19 15 21 28 24 24 18 22 23 17 24 23 25 19 18 20 12 18 19 19 22 17 13 19 24 20 15 25 24 20 18 19 17 15 17 21 21 17 17 20 25 21 14 13 19 21 16 21 21 21 15 31 14 22 19 14 18 19 24 20 19 27 18 21 19 25 17 17 17 24 23 20 26 16 24 21 20 22 25 10 19 19 17 20 23 17 17 24 20 17 18 14 23 23 23 18 20 18 19 17 23 19 30 21 21 19 19 22 13 22 20 25 17 23 26 20 23 16 16 18 29 18 15 23 24 27 24 24 18 16 11 18 27 18 23 12 18 14 12 16 18 23 17 24 20 23 18 16 26 21 11 27 17 17 11 21 14 29 21 22 24 29 16 17 14 13 28 20 20 19 19 21 15 18 17 21 20 16 12 18 20 21 24 21 18 22 19 26 26 15 24 20 13 16 28 18 19 31 17 22 26 11 24 21 29 20 22 19 20 24 17 19 12 13 20 20 21 25 13 17 16 15 17 16 14 13 24 22 15 22 16 18 15 21 20 20 17 22 19 17 17 20 33 18 19 23 19 12 23 18 10 14 16 21 18 23 23 11 16 17 12 23 26 27 25 16 20 18 11 14 27 18 17 20 15 23 21 20 14 20 25 26 27 11 16 21 24 20 18 22 17 21 12 21 17 19 11 19 20 15 21 17 20 21 14 29 20 25 17 22 17 18 24 22 14 24 23 21 22 13 \n"
     ]
    }
   ],
   "source": [
    "with open(\"/Users/yavuzsebe/Downloads/rosalind_deg.txt\",\"r\") as inputSet:   #sample output: 2 4 2 2 2 2\n",
    "    inputSet=inputSet.readlines()\n",
    "    i=0\n",
    "    while i<len(inputSet)-1:\n",
    "        inputSet[i]=inputSet[i][0:-1]\n",
    "        i+=1\n",
    "    i=1\n",
    "\n",
    "\n",
    "edgeList=[]\n",
    "while i<len(inputSet):\n",
    "    edgeList.append(inputSet[i])\n",
    "    i+=1\n",
    "\n",
    "splitList=[]\n",
    "for i in edgeList:\n",
    "    splitList.append(i.split())\n",
    "\n",
    "\n",
    "mentionCount=[]\n",
    "for j in splitList:\n",
    "    for k in j:\n",
    "        if k!=\" \":\n",
    "            mentionCount+=[int(k)]\n",
    "        else:\n",
    "            pass\n",
    "        \n",
    "vertices=int(inputSet[0].split()[0])\n",
    "degrees=[]\n",
    "i=0\n",
    "while i<vertices:\n",
    "    degrees+=[0]\n",
    "    i+=1   \n",
    "\n",
    "for i in mentionCount:\n",
    "    degrees[i-1]+=1\n",
    "degreesString=\"\"\n",
    "\n",
    "for i in degrees:\n",
    "    degreesString+=str(i)+\" \"  \n",
    "print(degreesString)"
   ]
  },
  {
   "cell_type": "code",
   "execution_count": null,
   "metadata": {},
   "outputs": [],
   "source": []
  }
 ],
 "metadata": {
  "kernelspec": {
   "display_name": "Python 3",
   "language": "python",
   "name": "python3"
  },
  "language_info": {
   "codemirror_mode": {
    "name": "ipython",
    "version": 3
   },
   "file_extension": ".py",
   "mimetype": "text/x-python",
   "name": "python",
   "nbconvert_exporter": "python",
   "pygments_lexer": "ipython3",
   "version": "3.12.6"
  }
 },
 "nbformat": 4,
 "nbformat_minor": 2
}
