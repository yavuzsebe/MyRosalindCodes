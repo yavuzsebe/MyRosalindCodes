{
 "cells": [
  {
   "cell_type": "code",
   "execution_count": 1,
   "metadata": {},
   "outputs": [],
   "source": [
    "with open('/Users/yavuzsebe/Downloads/rosalind_orf.txt', 'r') as inputfasta:\n",
    "    fasta_dictionary = {}\n",
    "    fasta_header = \"\"\n",
    "    for line in inputfasta:\n",
    "        line = line.strip()\n",
    "        if not line:\n",
    "            continue\n",
    "        if line.startswith(\">\"):\n",
    "            fasta_header = line[1:]\n",
    "            if fasta_header not in fasta_dictionary:\n",
    "                fasta_dictionary[fasta_header] = []\n",
    "            continue\n",
    "        sequence = line\n",
    "        fasta_dictionary[fasta_header].append(sequence)\n"
   ]
  },
  {
   "cell_type": "code",
   "execution_count": 2,
   "metadata": {},
   "outputs": [
    {
     "data": {
      "text/plain": [
       "{'Rosalind_1296': ['GCGATGACTACACAACACGACTGGCCCACGTGAAGCCAACGCTCATTGACGACAACTTGC',\n",
       "  'GATATAGCCTGGGTGAACTACAGCCCTTCCATGGCTAGACCGTGGGTCGTTCTATACGCA',\n",
       "  'GTTCTAGGTATGAAACAAACGGCACAGCATTCTATAATCAGAAAGCCCCAAATCAGTGTC',\n",
       "  'TTGGCTAGCGTTAAACCGGGGTCTTGCCAGTATCCACTCCATGAAGCACGTAGCACTGTC',\n",
       "  'TGGCATGGCCCGATTGCGAAACGAGTCTCGCCGTACTTCATGCAGAAGAACAATCGCATT',\n",
       "  'CCCTCATGATACTCCCCGCACTGAGGTTCTGCCAAATAAGCTTGTACAGGCATATATCAT',\n",
       "  'AGCATACTGAGTGAAGTCATTACATTTAGTAGGGGCTATTTCGTGAACTTTACGTAGGGC',\n",
       "  'GATCGTAATGCTCCAAAGGTAAGATGAGGAAAGCTTCTAGCTAGAAGCTTTCCTCATCTT',\n",
       "  'ACCTTTGGAGCATCTTGTATGCCCGCCTAGCGAACTAGATCTTCGAAGTTGTAGTAGTTT',\n",
       "  'GTGGAGTTACTAGACGGTGATGGTTGCTCGCCGATTCGACGAGTAGATATAGTGGTACTT',\n",
       "  'TATTTTAAATATGTATTCTGAATGCGGAGAGGTTCTAGCCAACTTGTACACGTTCCAGTA',\n",
       "  'ACGCGCTTACATGCGCTTCCCTTACACCAGACCCGCTGGATACAACACTCCTCTGAAGAG',\n",
       "  'CGATATAGTCTTGCTAAAATCGCTAGTACCATTCATACGCTGCAAGTTATTTGACAGATG',\n",
       "  'GCCCACTGCGAAACTAATCCACTATTGTGGATGTCCTCGCCATTTAGATTAAGCGGACAG',\n",
       "  'ACAGAGACCTTGTCTCTTCGCCGGTTTTACGCAATTAACTTGGCACCGGACGTGTGTCTC',\n",
       "  'CGCGTCGTCATCTACTTTTC']}"
      ]
     },
     "execution_count": 2,
     "metadata": {},
     "output_type": "execute_result"
    }
   ],
   "source": [
    "fasta_dictionary"
   ]
  },
  {
   "cell_type": "code",
   "execution_count": 3,
   "metadata": {},
   "outputs": [],
   "source": [
    "fastaFile={}\n",
    "i=0\n",
    "while i<len(list(fasta_dictionary.keys())):\n",
    "    j=0\n",
    "    emptyStr=\"\"\n",
    "    while j<len(fasta_dictionary[list(fasta_dictionary.keys())[i]]):\n",
    "        a=[]\n",
    "        a=list(list(fasta_dictionary[list(fasta_dictionary.keys())[i]]))[j]\n",
    "        emptyStr=emptyStr+a\n",
    "        j+=1\n",
    "    fastaFile[list(fasta_dictionary.keys())[i]]=[]\n",
    "    fastaFile[list(fasta_dictionary.keys())[i]].append(emptyStr)\n",
    "    i+=1\n",
    "mainSeq=str(fastaFile[list(fastaFile.keys())[0]])[2:-2]"
   ]
  },
  {
   "cell_type": "code",
   "execution_count": 4,
   "metadata": {},
   "outputs": [
    {
     "data": {
      "text/plain": [
       "{'Rosalind_1296': ['GCGATGACTACACAACACGACTGGCCCACGTGAAGCCAACGCTCATTGACGACAACTTGCGATATAGCCTGGGTGAACTACAGCCCTTCCATGGCTAGACCGTGGGTCGTTCTATACGCAGTTCTAGGTATGAAACAAACGGCACAGCATTCTATAATCAGAAAGCCCCAAATCAGTGTCTTGGCTAGCGTTAAACCGGGGTCTTGCCAGTATCCACTCCATGAAGCACGTAGCACTGTCTGGCATGGCCCGATTGCGAAACGAGTCTCGCCGTACTTCATGCAGAAGAACAATCGCATTCCCTCATGATACTCCCCGCACTGAGGTTCTGCCAAATAAGCTTGTACAGGCATATATCATAGCATACTGAGTGAAGTCATTACATTTAGTAGGGGCTATTTCGTGAACTTTACGTAGGGCGATCGTAATGCTCCAAAGGTAAGATGAGGAAAGCTTCTAGCTAGAAGCTTTCCTCATCTTACCTTTGGAGCATCTTGTATGCCCGCCTAGCGAACTAGATCTTCGAAGTTGTAGTAGTTTGTGGAGTTACTAGACGGTGATGGTTGCTCGCCGATTCGACGAGTAGATATAGTGGTACTTTATTTTAAATATGTATTCTGAATGCGGAGAGGTTCTAGCCAACTTGTACACGTTCCAGTAACGCGCTTACATGCGCTTCCCTTACACCAGACCCGCTGGATACAACACTCCTCTGAAGAGCGATATAGTCTTGCTAAAATCGCTAGTACCATTCATACGCTGCAAGTTATTTGACAGATGGCCCACTGCGAAACTAATCCACTATTGTGGATGTCCTCGCCATTTAGATTAAGCGGACAGACAGAGACCTTGTCTCTTCGCCGGTTTTACGCAATTAACTTGGCACCGGACGTGTGTCTCCGCGTCGTCATCTACTTTTC']}"
      ]
     },
     "execution_count": 4,
     "metadata": {},
     "output_type": "execute_result"
    }
   ],
   "source": [
    "fastaFile"
   ]
  },
  {
   "cell_type": "code",
   "execution_count": 5,
   "metadata": {},
   "outputs": [
    {
     "data": {
      "text/plain": [
       "'GCGATGACTACACAACACGACTGGCCCACGTGAAGCCAACGCTCATTGACGACAACTTGCGATATAGCCTGGGTGAACTACAGCCCTTCCATGGCTAGACCGTGGGTCGTTCTATACGCAGTTCTAGGTATGAAACAAACGGCACAGCATTCTATAATCAGAAAGCCCCAAATCAGTGTCTTGGCTAGCGTTAAACCGGGGTCTTGCCAGTATCCACTCCATGAAGCACGTAGCACTGTCTGGCATGGCCCGATTGCGAAACGAGTCTCGCCGTACTTCATGCAGAAGAACAATCGCATTCCCTCATGATACTCCCCGCACTGAGGTTCTGCCAAATAAGCTTGTACAGGCATATATCATAGCATACTGAGTGAAGTCATTACATTTAGTAGGGGCTATTTCGTGAACTTTACGTAGGGCGATCGTAATGCTCCAAAGGTAAGATGAGGAAAGCTTCTAGCTAGAAGCTTTCCTCATCTTACCTTTGGAGCATCTTGTATGCCCGCCTAGCGAACTAGATCTTCGAAGTTGTAGTAGTTTGTGGAGTTACTAGACGGTGATGGTTGCTCGCCGATTCGACGAGTAGATATAGTGGTACTTTATTTTAAATATGTATTCTGAATGCGGAGAGGTTCTAGCCAACTTGTACACGTTCCAGTAACGCGCTTACATGCGCTTCCCTTACACCAGACCCGCTGGATACAACACTCCTCTGAAGAGCGATATAGTCTTGCTAAAATCGCTAGTACCATTCATACGCTGCAAGTTATTTGACAGATGGCCCACTGCGAAACTAATCCACTATTGTGGATGTCCTCGCCATTTAGATTAAGCGGACAGACAGAGACCTTGTCTCTTCGCCGGTTTTACGCAATTAACTTGGCACCGGACGTGTGTCTCCGCGTCGTCATCTACTTTTC'"
      ]
     },
     "execution_count": 5,
     "metadata": {},
     "output_type": "execute_result"
    }
   ],
   "source": [
    "mainSeq"
   ]
  },
  {
   "cell_type": "code",
   "execution_count": null,
   "metadata": {},
   "outputs": [],
   "source": [
    "with open('/Users/yavuzsebe/Downloads/rosalind_lcsm.txt', 'r') as inputfasta:\n",
    "    fasta_dictionary = {}\n",
    "    fasta_header = \"\"\n",
    "    for line in inputfasta:\n",
    "        line = line.strip()\n",
    "        if not line:\n",
    "            continue\n",
    "        if line.startswith(\">\"):\n",
    "            fasta_header = line[1:]\n",
    "            if fasta_header not in fasta_dictionary:\n",
    "                fasta_dictionary[fasta_header] = []\n",
    "            continue\n",
    "        sequence = line\n",
    "        fasta_dictionary[fasta_header].append(sequence)\n",
    "fastaFile={}\n",
    "i=0\n",
    "while i<len(list(fasta_dictionary.keys())):\n",
    "    j=0\n",
    "    emptyStr=\"\"\n",
    "    while j<len(fasta_dictionary[list(fasta_dictionary.keys())[i]]):\n",
    "        a=[]\n",
    "        a=list(list(fasta_dictionary[list(fasta_dictionary.keys())[i]]))[j]\n",
    "        emptyStr=emptyStr+a\n",
    "        j+=1\n",
    "    fastaFile[list(fasta_dictionary.keys())[i]]=[]\n",
    "    fastaFile[list(fasta_dictionary.keys())[i]].append(emptyStr)\n",
    "    i+=1\n",
    "fastaFile"
   ]
  },
  {
   "cell_type": "code",
   "execution_count": null,
   "metadata": {},
   "outputs": [],
   "source": [
    "answerStr=\"\"\n",
    "for i in answer:\n",
    "    answerStr+=str(i)+\" \"\n",
    "print(answerStr)"
   ]
  }
 ],
 "metadata": {
  "kernelspec": {
   "display_name": "Python 3",
   "language": "python",
   "name": "python3"
  },
  "language_info": {
   "codemirror_mode": {
    "name": "ipython",
    "version": 3
   },
   "file_extension": ".py",
   "mimetype": "text/x-python",
   "name": "python",
   "nbconvert_exporter": "python",
   "pygments_lexer": "ipython3",
   "version": "3.12.6"
  }
 },
 "nbformat": 4,
 "nbformat_minor": 2
}
