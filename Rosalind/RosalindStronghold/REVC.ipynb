{
 "cells": [
  {
   "cell_type": "code",
   "execution_count": 14,
   "metadata": {},
   "outputs": [
    {
     "name": "stdout",
     "output_type": "stream",
     "text": [
      "ACCGGGTTTT\n"
     ]
    }
   ],
   "source": [
    "strvar=input(\"Input DNA sequence: \")\n",
    "strlist=[]\n",
    "empty_delimeter=\"\"\n",
    "def change(strvar):\n",
    "    i=0\n",
    "    while i<len(strvar):\n",
    "        if strvar[i]==\"T\":\n",
    "            strlist.append(\"A\")\n",
    "        elif strvar[i]==\"A\":\n",
    "            strlist.append(\"T\")\n",
    "        elif strvar[i]==\"G\":\n",
    "            strlist.append(\"C\")\n",
    "        elif strvar[i]==\"C\":\n",
    "            strlist.append(\"G\")\n",
    "        else:\n",
    "            strlist.append(\"x\")\n",
    "        i+=1\n",
    "def merge(strlist):\n",
    "    strlist.reverse()\n",
    "    strlist=empty_delimeter.join(strlist)\n",
    "    print(strlist)\n",
    "#AAAACCCGGT\n",
    "change(strvar)\n",
    "merge(strlist)"
   ]
  }
 ],
 "metadata": {
  "kernelspec": {
   "display_name": "Python 3",
   "language": "python",
   "name": "python3"
  },
  "language_info": {
   "codemirror_mode": {
    "name": "ipython",
    "version": 3
   },
   "file_extension": ".py",
   "mimetype": "text/x-python",
   "name": "python",
   "nbconvert_exporter": "python",
   "pygments_lexer": "ipython3",
   "version": "3.12.6"
  }
 },
 "nbformat": 4,
 "nbformat_minor": 2
}
