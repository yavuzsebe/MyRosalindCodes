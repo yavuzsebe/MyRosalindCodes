{
 "cells": [
  {
   "cell_type": "code",
   "execution_count": 145,
   "metadata": {},
   "outputs": [
    {
     "name": "stdout",
     "output_type": "stream",
     "text": [
      "3 5 5 5 0 \n"
     ]
    }
   ],
   "source": [
    "with open(\"/Users/yavuzsebe/Downloads/rosalind_ddeg.txt\",\"r\") as inputSet:   #sample output: 2 4 2 2 2 2\n",
    "    inputSet=inputSet.readlines()\n",
    "    i=0\n",
    "    while i<len(inputSet)-1:\n",
    "        inputSet[i]=inputSet[i][0:-1]\n",
    "        i+=1\n",
    "    i=1\n",
    "\n",
    "edgeList=[]\n",
    "while i<len(inputSet):\n",
    "    edgeList.append(inputSet[i])\n",
    "    i+=1\n",
    "\n",
    "splitList=[]\n",
    "for i in edgeList:\n",
    "    splitList.append(i.split())\n",
    "\n",
    "\n",
    "mentionCount=[]\n",
    "for j in splitList:\n",
    "    for k in j:\n",
    "        if k!=\" \":\n",
    "            mentionCount+=[int(k)]\n",
    "        else:\n",
    "            pass\n",
    "        \n",
    "vertices=int(inputSet[0].split()[0])\n",
    "degrees=[]\n",
    "i=0\n",
    "while i<vertices:\n",
    "    degrees+=[0]\n",
    "    i+=1   \n",
    "\n",
    "for i in mentionCount:\n",
    "    degrees[i-1]+=1\n",
    "\n",
    "degreesString=\"\"\n",
    "for i in degrees:\n",
    "    degreesString+=str(i)+\" \"  \n",
    "\n",
    "graphDict={}\n",
    "for i in range(vertices):\n",
    "    if i+1 not in graphDict.keys():\n",
    "        graphDict[i+1]=[]\n",
    "\n",
    "for i in edgeList:\n",
    "    graphDict[int(i.split()[0])]+=[int(i.split()[1])]\n",
    "    graphDict[int(i.split()[1])]+=[int(i.split()[0])]\n",
    "\n",
    "ddeg=[]\n",
    "for i in range(vertices):\n",
    "    ddeg+=[0]\n",
    "\n",
    "for i in graphDict:\n",
    "    for j in graphDict[i]:\n",
    "        ddeg[i-1]+=len(graphDict[j])\n",
    "\n",
    "ddegString=\"\"\n",
    "for i in ddeg:\n",
    "    ddegString+=str(i)+\" \"\n",
    "\n",
    "print(ddegString)"
   ]
  },
  {
   "cell_type": "code",
   "execution_count": null,
   "metadata": {},
   "outputs": [],
   "source": []
  }
 ],
 "metadata": {
  "kernelspec": {
   "display_name": "Python 3",
   "language": "python",
   "name": "python3"
  },
  "language_info": {
   "codemirror_mode": {
    "name": "ipython",
    "version": 3
   },
   "file_extension": ".py",
   "mimetype": "text/x-python",
   "name": "python",
   "nbconvert_exporter": "python",
   "pygments_lexer": "ipython3",
   "version": "3.12.6"
  }
 },
 "nbformat": 4,
 "nbformat_minor": 2
}
