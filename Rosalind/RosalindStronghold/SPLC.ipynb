{
 "cells": [
  {
   "cell_type": "code",
   "execution_count": 63,
   "metadata": {},
   "outputs": [
    {
     "name": "stdout",
     "output_type": "stream",
     "text": [
      " MNTSNCRLLRNSIQKMDSGKPKAQFGYLQGGTFRGRRPSLSITGLRDMPLSTLRSTGSPAKGPASWTKAKWHAPISDILVSVGLPAAVYARTPPSRQRSLQPEVQKASTTNSTTATTHFRIAVLCGGDFLKYVAVRTGGVTLHTGRTSQRVVGVGKRDVTHSFSV\n"
     ]
    }
   ],
   "source": [
    "def prot(dnaString):\n",
    "    codonTable={\n",
    "        \"AUG\":[\"M\"],\n",
    "        \"UAA\":[\"Stop\"],\"UAG\":[\"Stop\"],\"UGA\":[\"Stop\"],\n",
    "        \"UUU\":[\"F\"],\"UUC\":[\"F\"],\n",
    "        \"UUA\":[\"L\"],\"UUG\":[\"L\"],\"CUU\":[\"L\"],\"CUC\":[\"L\"],\"CUA\":[\"L\"],\"CUG\":[\"L\"],\n",
    "        \"UCU\":[\"S\"],\"UCC\":[\"S\"],\"UCA\":[\"S\"],\"UCG\":[\"S\"],\"AGU\":[\"S\"],\"AGC\":[\"S\"],\n",
    "        \"UAU\":[\"Y\"],\"UAC\":[\"Y\"],\n",
    "        \"UGU\":[\"C\"],\"UGC\":[\"C\"],\n",
    "        \"UGG\":[\"W\"],\n",
    "        \"CCU\":[\"P\"],\"CCC\":[\"P\"],\"CCA\":[\"P\"],\"CCG\":[\"P\"],\n",
    "        \"CAU\":[\"H\"],\"CAC\":[\"H\"],\n",
    "        \"CAA\":[\"Q\"],\"CAG\":[\"Q\"],\n",
    "        \"CGU\":[\"R\"],\"CGC\":[\"R\"],\"CGA\":[\"R\"],\"CGG\":[\"R\"],\"AGA\":[\"R\"],\"AGG\":[\"R\"],\n",
    "        \"AUU\":[\"I\"],\"AUC\":[\"I\"],\"AUA\":[\"I\"],\n",
    "        \"ACU\":[\"T\"],\"ACC\":[\"T\"],\"ACA\":[\"T\"],\"ACG\":[\"T\"],\n",
    "        \"AAU\":[\"N\"],\"AAC\":[\"N\"],\n",
    "        \"AAA\":[\"K\"],\"AAG\":[\"K\"],\n",
    "        \"GUU\":[\"V\"],\"GUC\":[\"V\"],\"GUA\":[\"V\"],\"GUG\":[\"V\"],\n",
    "        \"GCU\":[\"A\"],\"GCA\":[\"A\"],\"GCC\":[\"A\"],\"GCG\":[\"A\"],\n",
    "        \"GAU\":[\"D\"],\"GAC\":[\"D\"],\n",
    "        \"GAA\":[\"E\"],\"GAG\":[\"E\"],\n",
    "        \"GGU\":[\"G\"],\"GGC\":[\"G\"],\"GGA\":[\"G\"],\"GGG\":[\"G\"],\n",
    "    }\n",
    "    i=0\n",
    "    stopCodons=[\"UAA\",\"UAG\",\"UGA\"]\n",
    "    proteinString=\" \"\n",
    "    while i<len(dnaString):\n",
    "        if dnaString[i:i+3] in stopCodons:\n",
    "            break\n",
    "        if dnaString[i:i+3] in list(codonTable.keys()):\n",
    "            proteinString=proteinString+str(list(codonTable.values())[list(codonTable.keys()).index(dnaString[i:i+3])])\n",
    "        i+=3\n",
    "        proteinString=proteinString.replace(\"['\",\"\")\n",
    "        proteinString=proteinString.replace(\"']\",\"\")\n",
    "    print(proteinString)\n",
    "\n",
    "with open('/Users/yavuzsebe/Downloads/rosalind_splc.txt', 'r') as inputfasta:\n",
    "    fasta_dictionary = {}\n",
    "    fasta_header = \"\"\n",
    "    for line in inputfasta:\n",
    "        line = line.strip()\n",
    "        if not line:\n",
    "            continue\n",
    "        if line.startswith(\">\"):\n",
    "            fasta_header = line[1:]\n",
    "            if fasta_header not in fasta_dictionary:\n",
    "                fasta_dictionary[fasta_header] = []\n",
    "            continue\n",
    "        sequence = line\n",
    "        fasta_dictionary[fasta_header].append(sequence)\n",
    "fastaFile={}\n",
    "i=0\n",
    "while i<len(list(fasta_dictionary.keys())):\n",
    "    j=0\n",
    "    emptyStr=\"\"\n",
    "    while j<len(fasta_dictionary[list(fasta_dictionary.keys())[i]]):\n",
    "        a=[]\n",
    "        a=list(list(fasta_dictionary[list(fasta_dictionary.keys())[i]]))[j]\n",
    "        emptyStr=emptyStr+a\n",
    "        j+=1\n",
    "    fastaFile[list(fasta_dictionary.keys())[i]]=[]\n",
    "    fastaFile[list(fasta_dictionary.keys())[i]].append(emptyStr)\n",
    "    i+=1\n",
    "mainSeq=str(fastaFile[list(fastaFile.keys())[0]])[2:-2]\n",
    "i=1\n",
    "while i <len(list(fastaFile.keys())):\n",
    "    if str(fastaFile[list(fastaFile.keys())[i]])[2:-2] in mainSeq:\n",
    "        mainSeq=mainSeq.replace(str(fastaFile[list(fastaFile.keys())[i]])[2:-2],\"\")\n",
    "    i+=1\n",
    "mainSeq=mainSeq.replace(\"T\",\"U\")\n",
    "prot(mainSeq)"
   ]
  },
  {
   "cell_type": "code",
   "execution_count": 31,
   "metadata": {},
   "outputs": [
    {
     "name": "stdout",
     "output_type": "stream",
     "text": [
      "Rosalind_9668\n",
      "['ATGAATACAAGTAATTGCCGGCTGTTGAGAAACTCGATACAAGTTGCATGAATACGATCGAAAAAAATGGATTCGGGGAAACCTAAGGCTCAGTTTTCCGGGAATCAGAATGTCCCGAAATTCGTTGGTTATCTTCAAGGGGGGACTGAGACTAGTATGCGAGTGTCGTGCTGGCGGCTGCAACAGTTATTTCCGCGGCAGAAGACCTAGTTTGACGACGGAAGCGTCTTTGGCTCAACCCCAGTCTTGTGGATCGATTACCGGACTACGCGATGCTAATGCGGCTTCGTGTCCCCGCGTTCTTCGTTAAGGTTCCTTCCTATGCCTCTATCAACCTTGCGGTCAACCGGTTCACCGGCCAAGAACCAGAGGTGCAGGATAGAAACATAAAGGATGATGTCCTGGGACCAGCGTCATGGACGAAAGCAAAATGGCATGCAGCCAAAGAAGTGGAGCAGTACTCGTGCTGTACCGATAAGTGATATTCTGGTATCCGTTGGACTACCTGCAGCGGTTTATGCACGGAAGTATTAACAGATTTATGGGAGCGCACGCCGCCGAGCAGACAGCGGAGTTTGCAACCCGAATTGTATCTTTATGAAGGTCCAGAAGGCAAGTACAACTAACAGCACTACCGCCACAAACTGGGGACGACTCACTTTCGGCCGATAAGACCTTAAGTTCTGGCCAGCTGCTATAGCCGTACTCTGTGGCGGGGATTTCTTAAAGTACGTAGCAGTCGGTAGCCGAGTCCCAGCGGTTTAGCCGTGGAACCACTCGCGCAAAATGTAGGACCGGAGGGGTTACCTTGCACACCGGGCGTACAAGCCAGCGGCAAAATACTAGCTGCTCAAAGTGCGGTTGCTCATATGCCCCGTAGTCGGCGTGGGAAAAAGGGACGTTACACATTCATTTTCCGTGTGA']\n",
      "Rosalind_9668\n",
      "ATGAATACAAGTAATTGCCGGCTGTTGAGAAACTCGATACAAGTTGCATGAATACGATCGAAAAAAATGGATTCGGGGAAACCTAAGGCTCAGTTTTCCGGGAATCAGAATGTCCCGAAATTCGTTGGTTATCTTCAAGGGGGGACTGAGACTAGTATGCGAGTGTCGTGCTGGCGGCTGCAACAGTTATTTCCGCGGCAGAAGACCTAGTTTGACGACGGAAGCGTCTTTGGCTCAACCCCAGTCTTGTGGATCGATTACCGGACTACGCGATGCTAATGCGGCTTCGTGTCCCCGCGTTCTTCGTTAAGGTTCCTTCCTATGCCTCTATCAACCTTGCGGTCAACCGGTTCACCGGCCAAGAACCAGAGGTGCAGGATAGAAACATAAAGGATGATGTCCTGGGACCAGCGTCATGGACGAAAGCAAAATGGCATGCAGCCAAAGAAGTGGAGCAGTACTCGTGCTGTACCGATAAGTGATATTCTGGTATCCGTTGGACTACCTGCAGCGGTTTATGCACGGAAGTATTAACAGATTTATGGGAGCGCACGCCGCCGAGCAGACAGCGGAGTTTGCAACCCGAATTGTATCTTTATGAAGGTCCAGAAGGCAAGTACAACTAACAGCACTACCGCCACAAACTGGGGACGACTCACTTTCGGCCGATAAGACCTTAAGTTCTGGCCAGCTGCTATAGCCGTACTCTGTGGCGGGGATTTCTTAAAGTACGTAGCAGTCGGTAGCCGAGTCCCAGCGGTTTAGCCGTGGAACCACTCGCGCAAAATGTAGGACCGGAGGGGTTACCTTGCACACCGGGCGTACAAGCCAGCGGCAAAATACTAGCTGCTCAAAGTGCGGTTGCTCATATGCCCCGTAGTCGGCGTGGGAAAAAGGGACGTTACACATTCATTTTCCGTGTGA\n"
     ]
    }
   ],
   "source": [
    "print(\"{}\\n{}\".format(list(fastaFile.keys())[0],fastaFile[list(fastaFile.keys())[0]]))\n",
    "print(\"{}\\n{}\".format(list(fastaFile.keys())[0],str(fastaFile[list(fastaFile.keys())[0]])[2:-2]))"
   ]
  },
  {
   "cell_type": "code",
   "execution_count": 35,
   "metadata": {},
   "outputs": [
    {
     "data": {
      "text/plain": [
       "'ATGAATACAAGTAATTGCCGGCTGTTGAGAAACTCGATACAAGTTGCATGAATACGATCGAAAAAAATGGATTCGGGGAAACCTAAGGCTCAGTTTTCCGGGAATCAGAATGTCCCGAAATTCGTTGGTTATCTTCAAGGGGGGACTGAGACTAGTATGCGAGTGTCGTGCTGGCGGCTGCAACAGTTATTTCCGCGGCAGAAGACCTAGTTTGACGACGGAAGCGTCTTTGGCTCAACCCCAGTCTTGTGGATCGATTACCGGACTACGCGATGCTAATGCGGCTTCGTGTCCCCGCGTTCTTCGTTAAGGTTCCTTCCTATGCCTCTATCAACCTTGCGGTCAACCGGTTCACCGGCCAAGAACCAGAGGTGCAGGATAGAAACATAAAGGATGATGTCCTGGGACCAGCGTCATGGACGAAAGCAAAATGGCATGCAGCCAAAGAAGTGGAGCAGTACTCGTGCTGTACCGATAAGTGATATTCTGGTATCCGTTGGACTACCTGCAGCGGTTTATGCACGGAAGTATTAACAGATTTATGGGAGCGCACGCCGCCGAGCAGACAGCGGAGTTTGCAACCCGAATTGTATCTTTATGAAGGTCCAGAAGGCAAGTACAACTAACAGCACTACCGCCACAAACTGGGGACGACTCACTTTCGGCCGATAAGACCTTAAGTTCTGGCCAGCTGCTATAGCCGTACTCTGTGGCGGGGATTTCTTAAAGTACGTAGCAGTCGGTAGCCGAGTCCCAGCGGTTTAGCCGTGGAACCACTCGCGCAAAATGTAGGACCGGAGGGGTTACCTTGCACACCGGGCGTACAAGCCAGCGGCAAAATACTAGCTGCTCAAAGTGCGGTTGCTCATATGCCCCGTAGTCGGCGTGGGAAAAAGGGACGTTACACATTCATTTTCCGTGTGA'"
      ]
     },
     "execution_count": 35,
     "metadata": {},
     "output_type": "execute_result"
    }
   ],
   "source": [
    "mainSeq=str(fastaFile[list(fastaFile.keys())[0]])[2:-2]\n",
    "mainSeq"
   ]
  },
  {
   "cell_type": "code",
   "execution_count": 38,
   "metadata": {},
   "outputs": [
    {
     "data": {
      "text/plain": [
       "'GAGACTAGTATGCGAGTGTCGTGCTGGCGGCTGCAACAGTTAT'"
      ]
     },
     "execution_count": 38,
     "metadata": {},
     "output_type": "execute_result"
    }
   ],
   "source": [
    "str(fastaFile[list(fastaFile.keys())[1]])[2:-2]"
   ]
  },
  {
   "cell_type": "code",
   "execution_count": 54,
   "metadata": {},
   "outputs": [],
   "source": [
    "i=1\n",
    "while i <len(list(fastaFile.keys())):\n",
    "    if str(fastaFile[list(fastaFile.keys())[i]])[2:-2] in mainSeq:\n",
    "        mainSeq=mainSeq.replace(str(fastaFile[list(fastaFile.keys())[i]])[2:-2],\"\")\n",
    "    i+=1"
   ]
  },
  {
   "cell_type": "code",
   "execution_count": 55,
   "metadata": {},
   "outputs": [
    {
     "data": {
      "text/plain": [
       "498"
      ]
     },
     "execution_count": 55,
     "metadata": {},
     "output_type": "execute_result"
    }
   ],
   "source": [
    "len(mainSeq)"
   ]
  },
  {
   "cell_type": "code",
   "execution_count": null,
   "metadata": {},
   "outputs": [],
   "source": []
  }
 ],
 "metadata": {
  "kernelspec": {
   "display_name": "Python 3",
   "language": "python",
   "name": "python3"
  },
  "language_info": {
   "codemirror_mode": {
    "name": "ipython",
    "version": 3
   },
   "file_extension": ".py",
   "mimetype": "text/x-python",
   "name": "python",
   "nbconvert_exporter": "python",
   "pygments_lexer": "ipython3",
   "version": "3.12.6"
  }
 },
 "nbformat": 4,
 "nbformat_minor": 2
}
