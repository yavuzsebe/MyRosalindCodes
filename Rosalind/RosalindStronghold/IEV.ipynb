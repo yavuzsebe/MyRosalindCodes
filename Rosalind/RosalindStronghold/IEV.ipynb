{
 "cells": [
  {
   "cell_type": "code",
   "execution_count": 20,
   "metadata": {},
   "outputs": [
    {
     "name": "stdout",
     "output_type": "stream",
     "text": [
      "143626.0\n"
     ]
    }
   ],
   "source": [
    "with open('/Users/yavuzsebe/Downloads/rosalind_iev.txt', 'r') as inputArray:\n",
    "    couples=[]\n",
    "    for line in inputArray:\n",
    "        for couple in line.split():\n",
    "            couples.append(float(couple))\n",
    "answer=2*(1*couples[0]+1*couples[1]+1*couples[2]+0.75*couples[3]+0.5*couples[4]+0*couples[5])\n",
    "print(answer)"
   ]
  },
  {
   "cell_type": "code",
   "execution_count": null,
   "metadata": {},
   "outputs": [],
   "source": []
  }
 ],
 "metadata": {
  "kernelspec": {
   "display_name": "Python 3",
   "language": "python",
   "name": "python3"
  },
  "language_info": {
   "codemirror_mode": {
    "name": "ipython",
    "version": 3
   },
   "file_extension": ".py",
   "mimetype": "text/x-python",
   "name": "python",
   "nbconvert_exporter": "python",
   "pygments_lexer": "ipython3",
   "version": "3.12.6"
  }
 },
 "nbformat": 4,
 "nbformat_minor": 2
}
